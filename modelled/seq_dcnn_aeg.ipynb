{
 "cells": [
  {
   "cell_type": "markdown",
   "metadata": {},
   "source": [
    "# TRAINING THE AGE, ETHINICITY, GENDER MODEL"
   ]
  },
  {
   "cell_type": "markdown",
   "metadata": {},
   "source": [
    "## Importing the libraries"
   ]
  },
  {
   "cell_type": "code",
   "execution_count": 1,
   "metadata": {},
   "outputs": [],
   "source": [
    "import pandas as pd\n",
    "import numpy as np\n",
    "\n",
    "import seaborn as sns\n",
    "import plotly.express as px\n",
    "import matplotlib.pyplot as plt\n",
    "\n",
    "from keras.regularizers import l2\n",
    "from sklearn.model_selection import train_test_split\n",
    "\n",
    "import tensorflow as tf\n",
    "from tensorflow.keras.callbacks import ReduceLROnPlateau, EarlyStopping\n",
    "from tensorflow.keras.layers import (\n",
    "    Dense,\n",
    "    Dropout,\n",
    "    Flatten,\n",
    "    Conv2D,\n",
    "    MaxPool2D,\n",
    "    MaxPooling2D,\n",
    "    BatchNormalization\n",
    ")\n",
    "from tensorflow.keras.models import Sequential\n",
    "from tensorflow.keras.optimizers import Adam\n",
    "from tensorflow.keras.utils import to_categorical\n",
    "\n",
    "from datetime import datetime"
   ]
  },
  {
   "cell_type": "markdown",
   "metadata": {},
   "source": [
    "## Initializing the dataset"
   ]
  },
  {
   "cell_type": "code",
   "execution_count": 2,
   "metadata": {},
   "outputs": [
    {
     "data": {
      "text/plain": [
       "(23705, 5)"
      ]
     },
     "execution_count": 2,
     "metadata": {},
     "output_type": "execute_result"
    }
   ],
   "source": [
    "df = pd.read_csv('./dataset/age_gender.csv')\n",
    "df.shape"
   ]
  },
  {
   "cell_type": "markdown",
   "metadata": {},
   "source": [
    "## Pre-Process the dataset"
   ]
  },
  {
   "cell_type": "markdown",
   "metadata": {},
   "source": [
    "#### Describe the dataset"
   ]
  },
  {
   "cell_type": "code",
   "execution_count": 3,
   "metadata": {},
   "outputs": [
    {
     "data": {
      "text/html": [
       "<div>\n",
       "<style scoped>\n",
       "    .dataframe tbody tr th:only-of-type {\n",
       "        vertical-align: middle;\n",
       "    }\n",
       "\n",
       "    .dataframe tbody tr th {\n",
       "        vertical-align: top;\n",
       "    }\n",
       "\n",
       "    .dataframe thead th {\n",
       "        text-align: right;\n",
       "    }\n",
       "</style>\n",
       "<table border=\"1\" class=\"dataframe\">\n",
       "  <thead>\n",
       "    <tr style=\"text-align: right;\">\n",
       "      <th></th>\n",
       "      <th>age</th>\n",
       "      <th>ethnicity</th>\n",
       "      <th>gender</th>\n",
       "      <th>img_name</th>\n",
       "      <th>pixels</th>\n",
       "    </tr>\n",
       "  </thead>\n",
       "  <tbody>\n",
       "    <tr>\n",
       "      <th>0</th>\n",
       "      <td>1</td>\n",
       "      <td>2</td>\n",
       "      <td>0</td>\n",
       "      <td>20161219203650636.jpg.chip.jpg</td>\n",
       "      <td>129 128 128 126 127 130 133 135 139 142 145 14...</td>\n",
       "    </tr>\n",
       "    <tr>\n",
       "      <th>1</th>\n",
       "      <td>1</td>\n",
       "      <td>2</td>\n",
       "      <td>0</td>\n",
       "      <td>20161219222752047.jpg.chip.jpg</td>\n",
       "      <td>164 74 111 168 169 171 175 182 184 188 193 199...</td>\n",
       "    </tr>\n",
       "    <tr>\n",
       "      <th>2</th>\n",
       "      <td>1</td>\n",
       "      <td>2</td>\n",
       "      <td>0</td>\n",
       "      <td>20161219222832191.jpg.chip.jpg</td>\n",
       "      <td>67 70 71 70 69 67 70 79 90 103 116 132 145 155...</td>\n",
       "    </tr>\n",
       "    <tr>\n",
       "      <th>3</th>\n",
       "      <td>1</td>\n",
       "      <td>2</td>\n",
       "      <td>0</td>\n",
       "      <td>20161220144911423.jpg.chip.jpg</td>\n",
       "      <td>193 197 198 200 199 200 202 203 204 205 208 21...</td>\n",
       "    </tr>\n",
       "    <tr>\n",
       "      <th>4</th>\n",
       "      <td>1</td>\n",
       "      <td>2</td>\n",
       "      <td>0</td>\n",
       "      <td>20161220144914327.jpg.chip.jpg</td>\n",
       "      <td>202 205 209 210 209 209 210 211 212 214 218 21...</td>\n",
       "    </tr>\n",
       "  </tbody>\n",
       "</table>\n",
       "</div>"
      ],
      "text/plain": [
       "   age  ethnicity  gender                        img_name  \\\n",
       "0    1          2       0  20161219203650636.jpg.chip.jpg   \n",
       "1    1          2       0  20161219222752047.jpg.chip.jpg   \n",
       "2    1          2       0  20161219222832191.jpg.chip.jpg   \n",
       "3    1          2       0  20161220144911423.jpg.chip.jpg   \n",
       "4    1          2       0  20161220144914327.jpg.chip.jpg   \n",
       "\n",
       "                                              pixels  \n",
       "0  129 128 128 126 127 130 133 135 139 142 145 14...  \n",
       "1  164 74 111 168 169 171 175 182 184 188 193 199...  \n",
       "2  67 70 71 70 69 67 70 79 90 103 116 132 145 155...  \n",
       "3  193 197 198 200 199 200 202 203 204 205 208 21...  \n",
       "4  202 205 209 210 209 209 210 211 212 214 218 21...  "
      ]
     },
     "execution_count": 3,
     "metadata": {},
     "output_type": "execute_result"
    }
   ],
   "source": [
    "df.head()"
   ]
  },
  {
   "cell_type": "code",
   "execution_count": 4,
   "metadata": {},
   "outputs": [
    {
     "data": {
      "text/html": [
       "<div>\n",
       "<style scoped>\n",
       "    .dataframe tbody tr th:only-of-type {\n",
       "        vertical-align: middle;\n",
       "    }\n",
       "\n",
       "    .dataframe tbody tr th {\n",
       "        vertical-align: top;\n",
       "    }\n",
       "\n",
       "    .dataframe thead th {\n",
       "        text-align: right;\n",
       "    }\n",
       "</style>\n",
       "<table border=\"1\" class=\"dataframe\">\n",
       "  <thead>\n",
       "    <tr style=\"text-align: right;\">\n",
       "      <th></th>\n",
       "      <th>count</th>\n",
       "      <th>mean</th>\n",
       "      <th>std</th>\n",
       "      <th>min</th>\n",
       "      <th>25%</th>\n",
       "      <th>50%</th>\n",
       "      <th>75%</th>\n",
       "      <th>max</th>\n",
       "    </tr>\n",
       "  </thead>\n",
       "  <tbody>\n",
       "    <tr>\n",
       "      <th>age</th>\n",
       "      <td>23705.0</td>\n",
       "      <td>33.300907</td>\n",
       "      <td>19.885708</td>\n",
       "      <td>1.0</td>\n",
       "      <td>23.0</td>\n",
       "      <td>29.0</td>\n",
       "      <td>45.0</td>\n",
       "      <td>116.0</td>\n",
       "    </tr>\n",
       "    <tr>\n",
       "      <th>ethnicity</th>\n",
       "      <td>23705.0</td>\n",
       "      <td>1.269226</td>\n",
       "      <td>1.345638</td>\n",
       "      <td>0.0</td>\n",
       "      <td>0.0</td>\n",
       "      <td>1.0</td>\n",
       "      <td>2.0</td>\n",
       "      <td>4.0</td>\n",
       "    </tr>\n",
       "    <tr>\n",
       "      <th>gender</th>\n",
       "      <td>23705.0</td>\n",
       "      <td>0.477283</td>\n",
       "      <td>0.499494</td>\n",
       "      <td>0.0</td>\n",
       "      <td>0.0</td>\n",
       "      <td>0.0</td>\n",
       "      <td>1.0</td>\n",
       "      <td>1.0</td>\n",
       "    </tr>\n",
       "  </tbody>\n",
       "</table>\n",
       "</div>"
      ],
      "text/plain": [
       "             count       mean        std  min   25%   50%   75%    max\n",
       "age        23705.0  33.300907  19.885708  1.0  23.0  29.0  45.0  116.0\n",
       "ethnicity  23705.0   1.269226   1.345638  0.0   0.0   1.0   2.0    4.0\n",
       "gender     23705.0   0.477283   0.499494  0.0   0.0   0.0   1.0    1.0"
      ]
     },
     "execution_count": 4,
     "metadata": {},
     "output_type": "execute_result"
    }
   ],
   "source": [
    "df.describe().T"
   ]
  },
  {
   "cell_type": "markdown",
   "metadata": {},
   "source": [
    "### Visualize value count"
   ]
  },
  {
   "cell_type": "code",
   "execution_count": 5,
   "metadata": {},
   "outputs": [
    {
     "data": {
      "text/plain": [
       "<seaborn.axisgrid.FacetGrid at 0x24906070c70>"
      ]
     },
     "execution_count": 5,
     "metadata": {},
     "output_type": "execute_result"
    },
    {
     "data": {
      "image/png": "[encoded data removed]",
      "text/plain": [
       "<Figure size 500x500 with 1 Axes>"
      ]
     },
     "metadata": {},
     "output_type": "display_data"
    }
   ],
   "source": [
    "sns.displot(df['age'], kind='hist')"
   ]
  },
  {
   "cell_type": "code",
   "execution_count": 6,
   "metadata": {},
   "outputs": [
    {
     "data": {
      "image/png": "[encoded data removed]",
      "text/plain": [
       "<Figure size 1000x700 with 1 Axes>"
      ]
     },
     "metadata": {},
     "output_type": "display_data"
    }
   ],
   "source": [
    "plt.figure(figsize=(10,7))\n",
    "counts = df['ethnicity'].value_counts()\n",
    "plt.bar(counts.index, counts.values)\n",
    "plt.show()"
   ]
  },
  {
   "cell_type": "code",
   "execution_count": 7,
   "metadata": {},
   "outputs": [
    {
     "data": {
      "image/png": "[encoded data removed]",
      "text/plain": [
       "<Figure size 640x480 with 1 Axes>"
      ]
     },
     "metadata": {},
     "output_type": "display_data"
    }
   ],
   "source": [
    "df[\"gender\"].value_counts().plot.bar()\n",
    "plt.xticks(rotation=0)\n",
    "plt.show()"
   ]
  },
  {
   "cell_type": "markdown",
   "metadata": {},
   "source": [
    "### Normalize the dataset"
   ]
  },
  {
   "cell_type": "code",
   "execution_count": 8,
   "metadata": {},
   "outputs": [],
   "source": [
    "df['pixels'] = df['pixels'].apply(\n",
    "    lambda x:  np.array(\n",
    "        x.split(),\n",
    "        dtype=\"float32\"\n",
    "    )\n",
    ")"
   ]
  },
  {
   "cell_type": "code",
   "execution_count": 9,
   "metadata": {},
   "outputs": [
    {
     "data": {
      "text/plain": [
       "(23705, 2304)"
      ]
     },
     "execution_count": 9,
     "metadata": {},
     "output_type": "execute_result"
    }
   ],
   "source": [
    "X = np.array(df['pixels'].tolist()) / 255.0\n",
    "X.shape"
   ]
  },
  {
   "cell_type": "markdown",
   "metadata": {},
   "source": [
    "### Convert the linear dataset to 48x48 array of pixels"
   ]
  },
  {
   "cell_type": "code",
   "execution_count": 10,
   "metadata": {},
   "outputs": [
    {
     "data": {
      "text/plain": [
       "(23705, 48, 48, 1)"
      ]
     },
     "execution_count": 10,
     "metadata": {},
     "output_type": "execute_result"
    }
   ],
   "source": [
    "X = X.reshape(-1, 48, 48, 1)\n",
    "X.shape"
   ]
  },
  {
   "cell_type": "code",
   "execution_count": 11,
   "metadata": {},
   "outputs": [
    {
     "data": {
      "image/png": "[encoded data removed]",
      "text/plain": [
       "<Figure size 640x480 with 1 Axes>"
      ]
     },
     "metadata": {},
     "output_type": "display_data"
    }
   ],
   "source": [
    "plt.imshow(X[0])\n",
    "plt.xlabel(\n",
    "    \"Age: \" +\n",
    "    str(df['age'].iloc[0]) +\n",
    "    \"  Ethnicity: \" +\n",
    "    str(df['ethnicity'].iloc[0]) +\n",
    "    \"  Gender: \" +\n",
    "    str(df['gender'].iloc[0])\n",
    ")\n",
    "plt.show()"
   ]
  },
  {
   "cell_type": "markdown",
   "metadata": {},
   "source": [
    "### Convert continuous to categorical"
   ]
  },
  {
   "cell_type": "code",
   "execution_count": 12,
   "metadata": {},
   "outputs": [],
   "source": [
    "df[\"age\"] = pd.cut(\n",
    "    df[\"age\"],\n",
    "    bins=[0, 5, 18, 30, 45, 60, 80, 116],\n",
    "    labels=[\"0\", \"1\", \"2\", \"3\", \"4\", \"5\", \"6\"]\n",
    ")"
   ]
  },
  {
   "cell_type": "code",
   "execution_count": 13,
   "metadata": {},
   "outputs": [],
   "source": [
    "y = to_categorical(\n",
    "    np.array(df['age']),\n",
    "    num_classes=7\n",
    ")"
   ]
  },
  {
   "cell_type": "markdown",
   "metadata": {},
   "source": [
    "### Training constants"
   ]
  },
  {
   "cell_type": "code",
   "execution_count": 14,
   "metadata": {},
   "outputs": [],
   "source": [
    "EPOCHS = 200\n",
    "BATCH_SIZE = 64\n",
    "LEARNING_RATE = 0.001\n",
    "INPUT_SHAPE = (48, 48, 1)\n",
    "\n",
    "MODEL_AGE_LAYER_COUNT = 0\n",
    "MODEL_ETHNICITY_LAYER_COUNT = 0\n",
    "MODEL_GENDER_LAYER_COUNT = 0"
   ]
  },
  {
   "cell_type": "markdown",
   "metadata": {},
   "source": [
    "## Age Model"
   ]
  },
  {
   "cell_type": "markdown",
   "metadata": {},
   "source": [
    "### Split the training and test sets"
   ]
  },
  {
   "cell_type": "code",
   "execution_count": 15,
   "metadata": {},
   "outputs": [],
   "source": [
    "X_train, X_test, y_train, y_test = train_test_split(\n",
    "    X, y,\n",
    "    test_size=0.2,\n",
    "    random_state = 42\n",
    ")"
   ]
  },
  {
   "cell_type": "markdown",
   "metadata": {},
   "source": [
    "### Sequential CNN Model"
   ]
  },
  {
   "cell_type": "code",
   "execution_count": 16,
   "metadata": {},
   "outputs": [
    {
     "name": "stdout",
     "output_type": "stream",
     "text": [
      "Model: \"sequential\"\n",
      "_________________________________________________________________\n",
      " Layer (type)                Output Shape              Param #   \n",
      "=================================================================\n",
      " conv2d (Conv2D)             (None, 48, 48, 64)        640       \n",
      "                                                                 \n",
      " batch_normalization (BatchN  (None, 48, 48, 64)       256       \n",
      " ormalization)                                                   \n",
      "                                                                 \n",
      " conv2d_1 (Conv2D)           (None, 48, 48, 64)        36928     \n",
      "                                                                 \n",
      " batch_normalization_1 (Batc  (None, 48, 48, 64)       256       \n",
      " hNormalization)                                                 \n",
      "                                                                 \n",
      " max_pooling2d (MaxPooling2D  (None, 24, 24, 64)       0         \n",
      " )                                                               \n",
      "                                                                 \n",
      " dropout (Dropout)           (None, 24, 24, 64)        0         \n",
      "                                                                 \n",
      " conv2d_2 (Conv2D)           (None, 24, 24, 128)       73856     \n",
      "                                                                 \n",
      " batch_normalization_2 (Batc  (None, 24, 24, 128)      512       \n",
      " hNormalization)                                                 \n",
      "                                                                 \n",
      " conv2d_3 (Conv2D)           (None, 24, 24, 128)       147584    \n",
      "                                                                 \n",
      " batch_normalization_3 (Batc  (None, 24, 24, 128)      512       \n",
      " hNormalization)                                                 \n",
      "                                                                 \n",
      " max_pooling2d_1 (MaxPooling  (None, 12, 12, 128)      0         \n",
      " 2D)                                                             \n",
      "                                                                 \n",
      " dropout_1 (Dropout)         (None, 12, 12, 128)       0         \n",
      "                                                                 \n",
      " conv2d_4 (Conv2D)           (None, 12, 12, 256)       295168    \n",
      "                                                                 \n",
      " batch_normalization_4 (Batc  (None, 12, 12, 256)      1024      \n",
      " hNormalization)                                                 \n",
      "                                                                 \n",
      " conv2d_5 (Conv2D)           (None, 12, 12, 256)       590080    \n",
      "                                                                 \n",
      " batch_normalization_5 (Batc  (None, 12, 12, 256)      1024      \n",
      " hNormalization)                                                 \n",
      "                                                                 \n",
      " max_pooling2d_2 (MaxPooling  (None, 6, 6, 256)        0         \n",
      " 2D)                                                             \n",
      "                                                                 \n",
      " dropout_2 (Dropout)         (None, 6, 6, 256)         0         \n",
      "                                                                 \n",
      " flatten (Flatten)           (None, 9216)              0         \n",
      "                                                                 \n",
      " dense (Dense)               (None, 1024)              9438208   \n",
      "                                                                 \n",
      " batch_normalization_6 (Batc  (None, 1024)             4096      \n",
      " hNormalization)                                                 \n",
      "                                                                 \n",
      " dropout_3 (Dropout)         (None, 1024)              0         \n",
      "                                                                 \n",
      " dense_1 (Dense)             (None, 512)               524800    \n",
      "                                                                 \n",
      " batch_normalization_7 (Batc  (None, 512)              2048      \n",
      " hNormalization)                                                 \n",
      "                                                                 \n",
      " dropout_4 (Dropout)         (None, 512)               0         \n",
      "                                                                 \n",
      " dense_2 (Dense)             (None, 256)               131328    \n",
      "                                                                 \n",
      " batch_normalization_8 (Batc  (None, 256)              1024      \n",
      " hNormalization)                                                 \n",
      "                                                                 \n",
      " dense_3 (Dense)             (None, 7)                 1799      \n",
      "                                                                 \n",
      "=================================================================\n",
      "Total params: 11,251,143\n",
      "Trainable params: 11,245,767\n",
      "Non-trainable params: 5,376\n",
      "_________________________________________________________________\n"
     ]
    },
    {
     "name": "stderr",
     "output_type": "stream",
     "text": [
      "c:\\Users\\Prerak\\Desktop\\Padhai\\UNIV_STUFF\\AML\\AML_project_CLA4\\venv\\lib\\site-packages\\keras\\optimizers\\optimizer_v2\\adam.py:114: UserWarning: The `lr` argument is deprecated, use `learning_rate` instead.\n",
      "  super().__init__(name, **kwargs)\n"
     ]
    }
   ],
   "source": [
    "model_age = Sequential()\n",
    "model_age.add(Conv2D(filters=64, kernel_size=(3, 3), activation='elu', kernel_initializer='he_normal', padding='same', input_shape=INPUT_SHAPE))\n",
    "model_age.add(BatchNormalization())\n",
    "model_age.add(Conv2D(filters=64, kernel_size=(3, 3), activation = 'elu', kernel_initializer='he_normal', padding='same'))\n",
    "model_age.add(BatchNormalization())\n",
    "model_age.add(MaxPooling2D(2,2))\n",
    "model_age.add(Dropout(0.3))\n",
    "\n",
    "model_age.add(Conv2D(filters=128, kernel_size=(3, 3), activation='elu', kernel_initializer='he_normal', padding='same'))\n",
    "model_age.add(BatchNormalization())\n",
    "model_age.add(Conv2D(filters=128, kernel_size=(3, 3), activation='elu', kernel_initializer='he_normal', padding='same'))\n",
    "model_age.add(BatchNormalization())\n",
    "model_age.add(MaxPooling2D(2,2))\n",
    "model_age.add(Dropout(0.4))\n",
    "\n",
    "model_age.add(Conv2D(filters=256, kernel_size=(3, 3), activation='elu', kernel_initializer='he_normal', padding='same'))\n",
    "model_age.add(BatchNormalization())\n",
    "model_age.add(Conv2D(filters=256, kernel_size=(3, 3), activation='elu', kernel_initializer='he_normal', padding='same'))\n",
    "model_age.add(BatchNormalization())\n",
    "model_age.add(MaxPooling2D(2, 2))\n",
    "model_age.add(Dropout(0.5))\n",
    "\n",
    "model_age.add(Flatten())\n",
    "\n",
    "model_age.add(Dense(units=1024, activation='relu', kernel_initializer='he_uniform'))\n",
    "model_age.add(BatchNormalization())\n",
    "model_age.add(Dropout(0.5))\n",
    "\n",
    "model_age.add(Dense(units=512, activation='relu', kernel_initializer='he_uniform'))\n",
    "model_age.add(BatchNormalization())\n",
    "model_age.add(Dropout(0.3))\n",
    "\n",
    "model_age.add(Dense(units=256, activation='relu', kernel_initializer='he_uniform'))\n",
    "model_age.add(BatchNormalization())\n",
    "\n",
    "model_age.add(Dense(units=7, activation='softmax'))\n",
    "\n",
    "\n",
    "# Compile model and check for formatting errors, define the\n",
    "# loss function, the optimizer, learning rate, and the\n",
    "# metrics (accuracy).\n",
    "model_age.compile(\n",
    "    loss='categorical_crossentropy',\n",
    "    optimizer=Adam(\n",
    "        lr=LEARNING_RATE,\n",
    "        beta_1=0.9,\n",
    "        beta_2=0.999\n",
    "    ), \n",
    "    metrics=['accuracy']\n",
    ")\n",
    "model_age.summary()\n",
    "\n",
    "MODEL_AGE_LAYER_COUNT = len(model_age.layers)"
   ]
  },
  {
   "cell_type": "code",
   "execution_count": 17,
   "metadata": {},
   "outputs": [],
   "source": [
    "early_stopping = EarlyStopping(\n",
    "    patience=10,\n",
    "    min_delta=0.001,\n",
    "    restore_best_weights=True\n",
    ")\n",
    "\n",
    "learning_rate_reduction = ReduceLROnPlateau(\n",
    "    monitor='val_mean_squared_error', \n",
    "    patience=3,\n",
    "    verbose=1,\n",
    "    factor=0.5, \n",
    "    lr=LEARNING_RATE\n",
    ")"
   ]
  },
  {
   "cell_type": "markdown",
   "metadata": {},
   "source": [
    "### Training the model"
   ]
  },
  {
   "cell_type": "code",
   "execution_count": 18,
   "metadata": {},
   "outputs": [
    {
     "name": "stdout",
     "output_type": "stream",
     "text": [
      "Epoch 1/200\n",
      "295/296 [============================>.] - ETA: 0s - loss: 1.4997 - accuracy: 0.4386WARNING:tensorflow:Learning rate reduction is conditioned on metric `val_mean_squared_error` which is not available. Available metrics are: loss,accuracy,val_loss,val_accuracy,lr\n",
      "296/296 [==============================] - 17s 40ms/step - loss: 1.4983 - accuracy: 0.4387 - val_loss: 1.3289 - val_accuracy: 0.4670 - lr: 0.0010\n",
      "Epoch 2/200\n",
      "295/296 [============================>.] - ETA: 0s - loss: 1.1129 - accuracy: 0.5413WARNING:tensorflow:Learning rate reduction is conditioned on metric `val_mean_squared_error` which is not available. Available metrics are: loss,accuracy,val_loss,val_accuracy,lr\n",
      "296/296 [==============================] - 12s 39ms/step - loss: 1.1127 - accuracy: 0.5414 - val_loss: 1.2648 - val_accuracy: 0.4645 - lr: 0.0010\n",
      "Epoch 3/200\n",
      "295/296 [============================>.] - ETA: 0s - loss: 1.0165 - accuracy: 0.5703WARNING:tensorflow:Learning rate reduction is conditioned on metric `val_mean_squared_error` which is not available. Available metrics are: loss,accuracy,val_loss,val_accuracy,lr\n",
      "296/296 [==============================] - 11s 39ms/step - loss: 1.0162 - accuracy: 0.5705 - val_loss: 1.0306 - val_accuracy: 0.5752 - lr: 0.0010\n",
      "Epoch 4/200\n",
      "296/296 [==============================] - ETA: 0s - loss: 0.9491 - accuracy: 0.6005WARNING:tensorflow:Learning rate reduction is conditioned on metric `val_mean_squared_error` which is not available. Available metrics are: loss,accuracy,val_loss,val_accuracy,lr\n",
      "296/296 [==============================] - 11s 39ms/step - loss: 0.9491 - accuracy: 0.6005 - val_loss: 1.2914 - val_accuracy: 0.4862 - lr: 0.0010\n",
      "Epoch 5/200\n",
      "296/296 [==============================] - ETA: 0s - loss: 0.9182 - accuracy: 0.6071WARNING:tensorflow:Learning rate reduction is conditioned on metric `val_mean_squared_error` which is not available. Available metrics are: loss,accuracy,val_loss,val_accuracy,lr\n",
      "296/296 [==============================] - 12s 39ms/step - loss: 0.9182 - accuracy: 0.6071 - val_loss: 1.0143 - val_accuracy: 0.5838 - lr: 0.0010\n",
      "Epoch 6/200\n",
      "295/296 [============================>.] - ETA: 0s - loss: 0.8796 - accuracy: 0.6223WARNING:tensorflow:Learning rate reduction is conditioned on metric `val_mean_squared_error` which is not available. Available metrics are: loss,accuracy,val_loss,val_accuracy,lr\n",
      "296/296 [==============================] - 11s 39ms/step - loss: 0.8793 - accuracy: 0.6223 - val_loss: 0.8764 - val_accuracy: 0.6277 - lr: 0.0010\n",
      "Epoch 7/200\n",
      "295/296 [============================>.] - ETA: 0s - loss: 0.8505 - accuracy: 0.6400WARNING:tensorflow:Learning rate reduction is conditioned on metric `val_mean_squared_error` which is not available. Available metrics are: loss,accuracy,val_loss,val_accuracy,lr\n",
      "296/296 [==============================] - 12s 39ms/step - loss: 0.8501 - accuracy: 0.6401 - val_loss: 0.8257 - val_accuracy: 0.6524 - lr: 0.0010\n",
      "Epoch 8/200\n",
      "296/296 [==============================] - ETA: 0s - loss: 0.8268 - accuracy: 0.6452WARNING:tensorflow:Learning rate reduction is conditioned on metric `val_mean_squared_error` which is not available. Available metrics are: loss,accuracy,val_loss,val_accuracy,lr\n",
      "296/296 [==============================] - 12s 39ms/step - loss: 0.8268 - accuracy: 0.6452 - val_loss: 0.8992 - val_accuracy: 0.6286 - lr: 0.0010\n",
      "Epoch 9/200\n",
      "296/296 [==============================] - ETA: 0s - loss: 0.7975 - accuracy: 0.6574WARNING:tensorflow:Learning rate reduction is conditioned on metric `val_mean_squared_error` which is not available. Available metrics are: loss,accuracy,val_loss,val_accuracy,lr\n",
      "296/296 [==============================] - 11s 39ms/step - loss: 0.7975 - accuracy: 0.6574 - val_loss: 0.9448 - val_accuracy: 0.6102 - lr: 0.0010\n",
      "Epoch 10/200\n",
      "296/296 [==============================] - ETA: 0s - loss: 0.7812 - accuracy: 0.6638WARNING:tensorflow:Learning rate reduction is conditioned on metric `val_mean_squared_error` which is not available. Available metrics are: loss,accuracy,val_loss,val_accuracy,lr\n",
      "296/296 [==============================] - 11s 39ms/step - loss: 0.7812 - accuracy: 0.6638 - val_loss: 0.8618 - val_accuracy: 0.6448 - lr: 0.0010\n",
      "Epoch 11/200\n",
      "295/296 [============================>.] - ETA: 0s - loss: 0.7543 - accuracy: 0.6726WARNING:tensorflow:Learning rate reduction is conditioned on metric `val_mean_squared_error` which is not available. Available metrics are: loss,accuracy,val_loss,val_accuracy,lr\n",
      "296/296 [==============================] - 11s 39ms/step - loss: 0.7545 - accuracy: 0.6725 - val_loss: 0.8168 - val_accuracy: 0.6589 - lr: 0.0010\n",
      "Epoch 12/200\n",
      "295/296 [============================>.] - ETA: 0s - loss: 0.7316 - accuracy: 0.6883WARNING:tensorflow:Learning rate reduction is conditioned on metric `val_mean_squared_error` which is not available. Available metrics are: loss,accuracy,val_loss,val_accuracy,lr\n",
      "296/296 [==============================] - 11s 39ms/step - loss: 0.7311 - accuracy: 0.6885 - val_loss: 0.8296 - val_accuracy: 0.6456 - lr: 0.0010\n",
      "Epoch 13/200\n",
      "295/296 [============================>.] - ETA: 0s - loss: 0.7002 - accuracy: 0.7010WARNING:tensorflow:Learning rate reduction is conditioned on metric `val_mean_squared_error` which is not available. Available metrics are: loss,accuracy,val_loss,val_accuracy,lr\n",
      "296/296 [==============================] - 11s 39ms/step - loss: 0.7001 - accuracy: 0.7011 - val_loss: 0.8370 - val_accuracy: 0.6570 - lr: 0.0010\n",
      "Epoch 14/200\n",
      "296/296 [==============================] - ETA: 0s - loss: 0.6869 - accuracy: 0.7101WARNING:tensorflow:Learning rate reduction is conditioned on metric `val_mean_squared_error` which is not available. Available metrics are: loss,accuracy,val_loss,val_accuracy,lr\n",
      "296/296 [==============================] - 11s 39ms/step - loss: 0.6869 - accuracy: 0.7101 - val_loss: 0.8517 - val_accuracy: 0.6596 - lr: 0.0010\n",
      "Epoch 15/200\n",
      "295/296 [============================>.] - ETA: 0s - loss: 0.6604 - accuracy: 0.7193WARNING:tensorflow:Learning rate reduction is conditioned on metric `val_mean_squared_error` which is not available. Available metrics are: loss,accuracy,val_loss,val_accuracy,lr\n",
      "296/296 [==============================] - 11s 39ms/step - loss: 0.6605 - accuracy: 0.7194 - val_loss: 0.8347 - val_accuracy: 0.6494 - lr: 0.0010\n",
      "Epoch 16/200\n",
      "295/296 [============================>.] - ETA: 0s - loss: 0.6413 - accuracy: 0.7287WARNING:tensorflow:Learning rate reduction is conditioned on metric `val_mean_squared_error` which is not available. Available metrics are: loss,accuracy,val_loss,val_accuracy,lr\n",
      "296/296 [==============================] - 11s 39ms/step - loss: 0.6413 - accuracy: 0.7286 - val_loss: 0.8248 - val_accuracy: 0.6596 - lr: 0.0010\n",
      "Epoch 17/200\n",
      "295/296 [============================>.] - ETA: 0s - loss: 0.6135 - accuracy: 0.7403WARNING:tensorflow:Learning rate reduction is conditioned on metric `val_mean_squared_error` which is not available. Available metrics are: loss,accuracy,val_loss,val_accuracy,lr\n",
      "296/296 [==============================] - 11s 39ms/step - loss: 0.6133 - accuracy: 0.7403 - val_loss: 0.8653 - val_accuracy: 0.6414 - lr: 0.0010\n",
      "Epoch 18/200\n",
      "295/296 [============================>.] - ETA: 0s - loss: 0.6117 - accuracy: 0.7405WARNING:tensorflow:Learning rate reduction is conditioned on metric `val_mean_squared_error` which is not available. Available metrics are: loss,accuracy,val_loss,val_accuracy,lr\n",
      "296/296 [==============================] - 11s 39ms/step - loss: 0.6113 - accuracy: 0.7407 - val_loss: 0.8283 - val_accuracy: 0.6642 - lr: 0.0010\n",
      "Epoch 19/200\n",
      "295/296 [============================>.] - ETA: 0s - loss: 0.5746 - accuracy: 0.7607WARNING:tensorflow:Learning rate reduction is conditioned on metric `val_mean_squared_error` which is not available. Available metrics are: loss,accuracy,val_loss,val_accuracy,lr\n",
      "296/296 [==============================] - 11s 39ms/step - loss: 0.5748 - accuracy: 0.7606 - val_loss: 0.8913 - val_accuracy: 0.6444 - lr: 0.0010\n",
      "Epoch 20/200\n",
      "295/296 [============================>.] - ETA: 0s - loss: 0.5464 - accuracy: 0.7710WARNING:tensorflow:Learning rate reduction is conditioned on metric `val_mean_squared_error` which is not available. Available metrics are: loss,accuracy,val_loss,val_accuracy,lr\n",
      "296/296 [==============================] - 11s 39ms/step - loss: 0.5465 - accuracy: 0.7708 - val_loss: 0.8513 - val_accuracy: 0.6650 - lr: 0.0010\n",
      "Epoch 21/200\n",
      "296/296 [==============================] - ETA: 0s - loss: 0.5251 - accuracy: 0.7834WARNING:tensorflow:Learning rate reduction is conditioned on metric `val_mean_squared_error` which is not available. Available metrics are: loss,accuracy,val_loss,val_accuracy,lr\n",
      "296/296 [==============================] - 11s 39ms/step - loss: 0.5251 - accuracy: 0.7834 - val_loss: 0.9009 - val_accuracy: 0.6587 - lr: 0.0010\n"
     ]
    }
   ],
   "source": [
    "history_age = model_age.fit(\n",
    "    X_train, y_train, \n",
    "    batch_size=BATCH_SIZE,\n",
    "    epochs=EPOCHS,\n",
    "    validation_data=(X_test, y_test), \n",
    "    steps_per_epoch=X_train.shape[0] // BATCH_SIZE,\n",
    "    callbacks=[early_stopping, learning_rate_reduction]\n",
    ")"
   ]
  },
  {
   "cell_type": "markdown",
   "metadata": {},
   "source": [
    "### Evaluate the model"
   ]
  },
  {
   "cell_type": "code",
   "execution_count": 19,
   "metadata": {},
   "outputs": [
    {
     "name": "stdout",
     "output_type": "stream",
     "text": [
      "Test loss: 0.8167858719825745\n",
      "Test Accuracy: 0.6589326858520508\n"
     ]
    }
   ],
   "source": [
    "loss, acc = model_age.evaluate(X_test, y_test, verbose=0)\n",
    "print('Test loss: {}'.format(loss))\n",
    "print('Test Accuracy: {}'.format(acc))"
   ]
  },
  {
   "cell_type": "markdown",
   "metadata": {},
   "source": [
    "### Metrics plot"
   ]
  },
  {
   "cell_type": "code",
   "execution_count": 20,
   "metadata": {},
   "outputs": [
    {
     "data": {
      "application/vnd.plotly.v1+json": {
       "config": {
        "plotlyServerURL": "https://plot.ly"
       },
       "data": [
        {
         "hovertemplate": "variable=loss<br>epoch=%{x}<br>loss=%{y}<extra></extra>",
         "legendgroup": "loss",
         "line": {
          "color": "#636efa",
          "dash": "solid"
         },
         "marker": {
          "symbol": "circle"
         },
         "mode": "lines",
         "name": "loss",
         "orientation": "v",
         "showlegend": true,
         "type": "scatter",
         "x": [
          0,
          1,
          2,
          3,
          4,
          5,
          6,
          7,
          8,
          9,
          10,
          11,
          12,
          13,
          14,
          15,
          16,
          17,
          18,
          19,
          20
         ],
         "xaxis": "x",
         "y": [
          1.4983059167861938,
          1.1127334833145142,
          1.016211986541748,
          0.9490624070167542,
          0.9182016849517822,
          0.879277765750885,
          0.8501400351524353,
          0.8267958164215088,
          0.7974985241889954,
          0.7811574339866638,
          0.754466712474823,
          0.73105788230896,
          0.7000776529312134,
          0.6868578791618347,
          0.6605105400085449,
          0.6413019299507141,
          0.61333829164505,
          0.6112964153289795,
          0.5748204588890076,
          0.5465311408042908,
          0.5251093506813049
         ],
         "yaxis": "y"
        },
        {
         "hovertemplate": "variable=val_loss<br>epoch=%{x}<br>loss=%{y}<extra></extra>",
         "legendgroup": "val_loss",
         "line": {
          "color": "#EF553B",
          "dash": "solid"
         },
         "marker": {
          "symbol": "circle"
         },
         "mode": "lines",
         "name": "val_loss",
         "orientation": "v",
         "showlegend": true,
         "type": "scatter",
         "x": [
          0,
          1,
          2,
          3,
          4,
          5,
          6,
          7,
          8,
          9,
          10,
          11,
          12,
          13,
          14,
          15,
          16,
          17,
          18,
          19,
          20
         ],
         "xaxis": "x",
         "y": [
          1.328932285308838,
          1.264818549156189,
          1.0306265354156494,
          1.2914119958877563,
          1.0142556428909302,
          0.8763760924339294,
          0.8256780505180359,
          0.8991844654083252,
          0.9448277354240417,
          0.8617560267448425,
          0.8167858123779297,
          0.8295649886131287,
          0.8369864225387573,
          0.8516982197761536,
          0.8347383141517639,
          0.8248268961906433,
          0.8653151392936707,
          0.8282565474510193,
          0.89129638671875,
          0.8512645363807678,
          0.9008616805076599
         ],
         "yaxis": "y"
        }
       ],
       "layout": {
        "legend": {
         "title": {
          "text": "variable"
         },
         "tracegroupgap": 0
        },
        "template": {
         "data": {
          "bar": [
           {
            "error_x": {
             "color": "#2a3f5f"
            },
            "error_y": {
             "color": "#2a3f5f"
            },
            "marker": {
             "line": {
              "color": "#E5ECF6",
              "width": 0.5
             },
             "pattern": {
              "fillmode": "overlay",
              "size": 10,
              "solidity": 0.2
             }
            },
            "type": "bar"
           }
          ],
          "barpolar": [
           {
            "marker": {
             "line": {
              "color": "#E5ECF6",
              "width": 0.5
             },
             "pattern": {
              "fillmode": "overlay",
              "size": 10,
              "solidity": 0.2
             }
            },
            "type": "barpolar"
           }
          ],
          "carpet": [
           {
            "aaxis": {
             "endlinecolor": "#2a3f5f",
             "gridcolor": "white",
             "linecolor": "white",
             "minorgridcolor": "white",
             "startlinecolor": "#2a3f5f"
            },
            "baxis": {
             "endlinecolor": "#2a3f5f",
             "gridcolor": "white",
             "linecolor": "white",
             "minorgridcolor": "white",
             "startlinecolor": "#2a3f5f"
            },
            "type": "carpet"
           }
          ],
          "choropleth": [
           {
            "colorbar": {
             "outlinewidth": 0,
             "ticks": ""
            },
            "type": "choropleth"
           }
          ],
          "contour": [
           {
            "colorbar": {
             "outlinewidth": 0,
             "ticks": ""
            },
            "colorscale": [
             [
              0,
              "#0d0887"
             ],
             [
              0.1111111111111111,
              "#46039f"
             ],
             [
              0.2222222222222222,
              "#7201a8"
             ],
             [
              0.3333333333333333,
              "#9c179e"
             ],
             [
              0.4444444444444444,
              "#bd3786"
             ],
             [
              0.5555555555555556,
              "#d8576b"
             ],
             [
              0.6666666666666666,
              "#ed7953"
             ],
             [
              0.7777777777777778,
              "#fb9f3a"
             ],
             [
              0.8888888888888888,
              "#fdca26"
             ],
             [
              1,
              "#f0f921"
             ]
            ],
            "type": "contour"
           }
          ],
          "contourcarpet": [
           {
            "colorbar": {
             "outlinewidth": 0,
             "ticks": ""
            },
            "type": "contourcarpet"
           }
          ],
          "heatmap": [
           {
            "colorbar": {
             "outlinewidth": 0,
             "ticks": ""
            },
            "colorscale": [
             [
              0,
              "#0d0887"
             ],
             [
              0.1111111111111111,
              "#46039f"
             ],
             [
              0.2222222222222222,
              "#7201a8"
             ],
             [
              0.3333333333333333,
              "#9c179e"
             ],
             [
              0.4444444444444444,
              "#bd3786"
             ],
             [
              0.5555555555555556,
              "#d8576b"
             ],
             [
              0.6666666666666666,
              "#ed7953"
             ],
             [
              0.7777777777777778,
              "#fb9f3a"
             ],
             [
              0.8888888888888888,
              "#fdca26"
             ],
             [
              1,
              "#f0f921"
             ]
            ],
            "type": "heatmap"
           }
          ],
          "heatmapgl": [
           {
            "colorbar": {
             "outlinewidth": 0,
             "ticks": ""
            },
            "colorscale": [
             [
              0,
              "#0d0887"
             ],
             [
              0.1111111111111111,
              "#46039f"
             ],
             [
              0.2222222222222222,
              "#7201a8"
             ],
             [
              0.3333333333333333,
              "#9c179e"
             ],
             [
              0.4444444444444444,
              "#bd3786"
             ],
             [
              0.5555555555555556,
              "#d8576b"
             ],
             [
              0.6666666666666666,
              "#ed7953"
             ],
             [
              0.7777777777777778,
              "#fb9f3a"
             ],
             [
              0.8888888888888888,
              "#fdca26"
             ],
             [
              1,
              "#f0f921"
             ]
            ],
            "type": "heatmapgl"
           }
          ],
          "histogram": [
           {
            "marker": {
             "pattern": {
              "fillmode": "overlay",
              "size": 10,
              "solidity": 0.2
             }
            },
            "type": "histogram"
           }
          ],
          "histogram2d": [
           {
            "colorbar": {
             "outlinewidth": 0,
             "ticks": ""
            },
            "colorscale": [
             [
              0,
              "#0d0887"
             ],
             [
              0.1111111111111111,
              "#46039f"
             ],
             [
              0.2222222222222222,
              "#7201a8"
             ],
             [
              0.3333333333333333,
              "#9c179e"
             ],
             [
              0.4444444444444444,
              "#bd3786"
             ],
             [
              0.5555555555555556,
              "#d8576b"
             ],
             [
              0.6666666666666666,
              "#ed7953"
             ],
             [
              0.7777777777777778,
              "#fb9f3a"
             ],
             [
              0.8888888888888888,
              "#fdca26"
             ],
             [
              1,
              "#f0f921"
             ]
            ],
            "type": "histogram2d"
           }
          ],
          "histogram2dcontour": [
           {
            "colorbar": {
             "outlinewidth": 0,
             "ticks": ""
            },
            "colorscale": [
             [
              0,
              "#0d0887"
             ],
             [
              0.1111111111111111,
              "#46039f"
             ],
             [
              0.2222222222222222,
              "#7201a8"
             ],
             [
              0.3333333333333333,
              "#9c179e"
             ],
             [
              0.4444444444444444,
              "#bd3786"
             ],
             [
              0.5555555555555556,
              "#d8576b"
             ],
             [
              0.6666666666666666,
              "#ed7953"
             ],
             [
              0.7777777777777778,
              "#fb9f3a"
             ],
             [
              0.8888888888888888,
              "#fdca26"
             ],
             [
              1,
              "#f0f921"
             ]
            ],
            "type": "histogram2dcontour"
           }
          ],
          "mesh3d": [
           {
            "colorbar": {
             "outlinewidth": 0,
             "ticks": ""
            },
            "type": "mesh3d"
           }
          ],
          "parcoords": [
           {
            "line": {
             "colorbar": {
              "outlinewidth": 0,
              "ticks": ""
             }
            },
            "type": "parcoords"
           }
          ],
          "pie": [
           {
            "automargin": true,
            "type": "pie"
           }
          ],
          "scatter": [
           {
            "fillpattern": {
             "fillmode": "overlay",
             "size": 10,
             "solidity": 0.2
            },
            "type": "scatter"
           }
          ],
          "scatter3d": [
           {
            "line": {
             "colorbar": {
              "outlinewidth": 0,
              "ticks": ""
             }
            },
            "marker": {
             "colorbar": {
              "outlinewidth": 0,
              "ticks": ""
             }
            },
            "type": "scatter3d"
           }
          ],
          "scattercarpet": [
           {
            "marker": {
             "colorbar": {
              "outlinewidth": 0,
              "ticks": ""
             }
            },
            "type": "scattercarpet"
           }
          ],
          "scattergeo": [
           {
            "marker": {
             "colorbar": {
              "outlinewidth": 0,
              "ticks": ""
             }
            },
            "type": "scattergeo"
           }
          ],
          "scattergl": [
           {
            "marker": {
             "colorbar": {
              "outlinewidth": 0,
              "ticks": ""
             }
            },
            "type": "scattergl"
           }
          ],
          "scattermapbox": [
           {
            "marker": {
             "colorbar": {
              "outlinewidth": 0,
              "ticks": ""
             }
            },
            "type": "scattermapbox"
           }
          ],
          "scatterpolar": [
           {
            "marker": {
             "colorbar": {
              "outlinewidth": 0,
              "ticks": ""
             }
            },
            "type": "scatterpolar"
           }
          ],
          "scatterpolargl": [
           {
            "marker": {
             "colorbar": {
              "outlinewidth": 0,
              "ticks": ""
             }
            },
            "type": "scatterpolargl"
           }
          ],
          "scatterternary": [
           {
            "marker": {
             "colorbar": {
              "outlinewidth": 0,
              "ticks": ""
             }
            },
            "type": "scatterternary"
           }
          ],
          "surface": [
           {
            "colorbar": {
             "outlinewidth": 0,
             "ticks": ""
            },
            "colorscale": [
             [
              0,
              "#0d0887"
             ],
             [
              0.1111111111111111,
              "#46039f"
             ],
             [
              0.2222222222222222,
              "#7201a8"
             ],
             [
              0.3333333333333333,
              "#9c179e"
             ],
             [
              0.4444444444444444,
              "#bd3786"
             ],
             [
              0.5555555555555556,
              "#d8576b"
             ],
             [
              0.6666666666666666,
              "#ed7953"
             ],
             [
              0.7777777777777778,
              "#fb9f3a"
             ],
             [
              0.8888888888888888,
              "#fdca26"
             ],
             [
              1,
              "#f0f921"
             ]
            ],
            "type": "surface"
           }
          ],
          "table": [
           {
            "cells": {
             "fill": {
              "color": "#EBF0F8"
             },
             "line": {
              "color": "white"
             }
            },
            "header": {
             "fill": {
              "color": "#C8D4E3"
             },
             "line": {
              "color": "white"
             }
            },
            "type": "table"
           }
          ]
         },
         "layout": {
          "annotationdefaults": {
           "arrowcolor": "#2a3f5f",
           "arrowhead": 0,
           "arrowwidth": 1
          },
          "autotypenumbers": "strict",
          "coloraxis": {
           "colorbar": {
            "outlinewidth": 0,
            "ticks": ""
           }
          },
          "colorscale": {
           "diverging": [
            [
             0,
             "#8e0152"
            ],
            [
             0.1,
             "#c51b7d"
            ],
            [
             0.2,
             "#de77ae"
            ],
            [
             0.3,
             "#f1b6da"
            ],
            [
             0.4,
             "#fde0ef"
            ],
            [
             0.5,
             "#f7f7f7"
            ],
            [
             0.6,
             "#e6f5d0"
            ],
            [
             0.7,
             "#b8e186"
            ],
            [
             0.8,
             "#7fbc41"
            ],
            [
             0.9,
             "#4d9221"
            ],
            [
             1,
             "#276419"
            ]
           ],
           "sequential": [
            [
             0,
             "#0d0887"
            ],
            [
             0.1111111111111111,
             "#46039f"
            ],
            [
             0.2222222222222222,
             "#7201a8"
            ],
            [
             0.3333333333333333,
             "#9c179e"
            ],
            [
             0.4444444444444444,
             "#bd3786"
            ],
            [
             0.5555555555555556,
             "#d8576b"
            ],
            [
             0.6666666666666666,
             "#ed7953"
            ],
            [
             0.7777777777777778,
             "#fb9f3a"
            ],
            [
             0.8888888888888888,
             "#fdca26"
            ],
            [
             1,
             "#f0f921"
            ]
           ],
           "sequentialminus": [
            [
             0,
             "#0d0887"
            ],
            [
             0.1111111111111111,
             "#46039f"
            ],
            [
             0.2222222222222222,
             "#7201a8"
            ],
            [
             0.3333333333333333,
             "#9c179e"
            ],
            [
             0.4444444444444444,
             "#bd3786"
            ],
            [
             0.5555555555555556,
             "#d8576b"
            ],
            [
             0.6666666666666666,
             "#ed7953"
            ],
            [
             0.7777777777777778,
             "#fb9f3a"
            ],
            [
             0.8888888888888888,
             "#fdca26"
            ],
            [
             1,
             "#f0f921"
            ]
           ]
          },
          "colorway": [
           "#636efa",
           "#EF553B",
           "#00cc96",
           "#ab63fa",
           "#FFA15A",
           "#19d3f3",
           "#FF6692",
           "#B6E880",
           "#FF97FF",
           "#FECB52"
          ],
          "font": {
           "color": "#2a3f5f"
          },
          "geo": {
           "bgcolor": "white",
           "lakecolor": "white",
           "landcolor": "#E5ECF6",
           "showlakes": true,
           "showland": true,
           "subunitcolor": "white"
          },
          "hoverlabel": {
           "align": "left"
          },
          "hovermode": "closest",
          "mapbox": {
           "style": "light"
          },
          "paper_bgcolor": "white",
          "plot_bgcolor": "#E5ECF6",
          "polar": {
           "angularaxis": {
            "gridcolor": "white",
            "linecolor": "white",
            "ticks": ""
           },
           "bgcolor": "#E5ECF6",
           "radialaxis": {
            "gridcolor": "white",
            "linecolor": "white",
            "ticks": ""
           }
          },
          "scene": {
           "xaxis": {
            "backgroundcolor": "#E5ECF6",
            "gridcolor": "white",
            "gridwidth": 2,
            "linecolor": "white",
            "showbackground": true,
            "ticks": "",
            "zerolinecolor": "white"
           },
           "yaxis": {
            "backgroundcolor": "#E5ECF6",
            "gridcolor": "white",
            "gridwidth": 2,
            "linecolor": "white",
            "showbackground": true,
            "ticks": "",
            "zerolinecolor": "white"
           },
           "zaxis": {
            "backgroundcolor": "#E5ECF6",
            "gridcolor": "white",
            "gridwidth": 2,
            "linecolor": "white",
            "showbackground": true,
            "ticks": "",
            "zerolinecolor": "white"
           }
          },
          "shapedefaults": {
           "line": {
            "color": "#2a3f5f"
           }
          },
          "ternary": {
           "aaxis": {
            "gridcolor": "white",
            "linecolor": "white",
            "ticks": ""
           },
           "baxis": {
            "gridcolor": "white",
            "linecolor": "white",
            "ticks": ""
           },
           "bgcolor": "#E5ECF6",
           "caxis": {
            "gridcolor": "white",
            "linecolor": "white",
            "ticks": ""
           }
          },
          "title": {
           "x": 0.05
          },
          "xaxis": {
           "automargin": true,
           "gridcolor": "white",
           "linecolor": "white",
           "ticks": "",
           "title": {
            "standoff": 15
           },
           "zerolinecolor": "white",
           "zerolinewidth": 2
          },
          "yaxis": {
           "automargin": true,
           "gridcolor": "white",
           "linecolor": "white",
           "ticks": "",
           "title": {
            "standoff": 15
           },
           "zerolinecolor": "white",
           "zerolinewidth": 2
          }
         }
        },
        "title": {
         "text": "Training History"
        },
        "xaxis": {
         "anchor": "y",
         "domain": [
          0,
          1
         ],
         "title": {
          "text": "epoch"
         }
        },
        "yaxis": {
         "anchor": "x",
         "domain": [
          0,
          1
         ],
         "title": {
          "text": "loss"
         }
        }
       }
      }
     },
     "metadata": {},
     "output_type": "display_data"
    }
   ],
   "source": [
    "fig = px.line(\n",
    "    history_age.history, y=['loss', 'val_loss'],\n",
    "    labels={\n",
    "        'index': 'epoch',\n",
    "        'value': 'loss'\n",
    "    },\n",
    "    title='Training History'\n",
    ")\n",
    "fig.show()"
   ]
  },
  {
   "cell_type": "markdown",
   "metadata": {},
   "source": [
    "### Save the weights"
   ]
  },
  {
   "cell_type": "code",
   "execution_count": 21,
   "metadata": {},
   "outputs": [],
   "source": [
    "model_age.save(\n",
    "    \"./weights/age_{layers}-ep_{epochs}-lr_{learning_rate}-{timestamp}.h5\"\n",
    "    .format(\n",
    "        layers=MODEL_AGE_LAYER_COUNT,\n",
    "        epochs=EPOCHS,\n",
    "        learning_rate=str(LEARNING_RATE).replace('.', '_'),\n",
    "        timestamp=datetime.now().strftime(\"%d%m%Y_%H%M%S\"),\n",
    "    )\n",
    ")"
   ]
  },
  {
   "cell_type": "markdown",
   "metadata": {},
   "source": [
    "## Gender Model"
   ]
  },
  {
   "cell_type": "markdown",
   "metadata": {},
   "source": [
    "### Split the training and test sets"
   ]
  },
  {
   "cell_type": "code",
   "execution_count": 22,
   "metadata": {},
   "outputs": [],
   "source": [
    "y = df['gender'].to_numpy()\n",
    "X_train, X_test, y_train, y_test = train_test_split(\n",
    "    X, y, \n",
    "    test_size=0.2,\n",
    "    random_state=42\n",
    ")"
   ]
  },
  {
   "cell_type": "markdown",
   "metadata": {},
   "source": [
    "### Sequential CNN Model"
   ]
  },
  {
   "cell_type": "code",
   "execution_count": 23,
   "metadata": {},
   "outputs": [
    {
     "name": "stdout",
     "output_type": "stream",
     "text": [
      "Model: \"sequential_1\"\n",
      "_________________________________________________________________\n",
      " Layer (type)                Output Shape              Param #   \n",
      "=================================================================\n",
      " conv2d_6 (Conv2D)           (None, 48, 48, 32)        320       \n",
      "                                                                 \n",
      " batch_normalization_9 (Batc  (None, 48, 48, 32)       128       \n",
      " hNormalization)                                                 \n",
      "                                                                 \n",
      " max_pooling2d_3 (MaxPooling  (None, 24, 24, 32)       0         \n",
      " 2D)                                                             \n",
      "                                                                 \n",
      " dropout_5 (Dropout)         (None, 24, 24, 32)        0         \n",
      "                                                                 \n",
      " conv2d_7 (Conv2D)           (None, 24, 24, 64)        18496     \n",
      "                                                                 \n",
      " batch_normalization_10 (Bat  (None, 24, 24, 64)       256       \n",
      " chNormalization)                                                \n",
      "                                                                 \n",
      " max_pooling2d_4 (MaxPooling  (None, 12, 12, 64)       0         \n",
      " 2D)                                                             \n",
      "                                                                 \n",
      " dropout_6 (Dropout)         (None, 12, 12, 64)        0         \n",
      "                                                                 \n",
      " conv2d_8 (Conv2D)           (None, 12, 12, 64)        36928     \n",
      "                                                                 \n",
      " batch_normalization_11 (Bat  (None, 12, 12, 64)       256       \n",
      " chNormalization)                                                \n",
      "                                                                 \n",
      " max_pooling2d_5 (MaxPooling  (None, 6, 6, 64)         0         \n",
      " 2D)                                                             \n",
      "                                                                 \n",
      " dropout_7 (Dropout)         (None, 6, 6, 64)          0         \n",
      "                                                                 \n",
      " flatten_1 (Flatten)         (None, 2304)              0         \n",
      "                                                                 \n",
      " dense_4 (Dense)             (None, 256)               590080    \n",
      "                                                                 \n",
      " dense_5 (Dense)             (None, 1)                 257       \n",
      "                                                                 \n",
      "=================================================================\n",
      "Total params: 646,721\n",
      "Trainable params: 646,401\n",
      "Non-trainable params: 320\n",
      "_________________________________________________________________\n"
     ]
    }
   ],
   "source": [
    "model_gender = Sequential()\n",
    "model_gender.add(Conv2D(32, kernel_size=(3, 3), activation='relu', padding='same', input_shape=INPUT_SHAPE, kernel_regularizer=l2(0.01)))\n",
    "model_gender.add(BatchNormalization())\n",
    "model_gender.add(MaxPool2D(pool_size=(2, 2)))\n",
    "model_gender.add(Dropout(0.2))\n",
    "\n",
    "model_gender.add(Conv2D(64, kernel_size=(3, 3), activation='relu', padding='same', kernel_regularizer=l2(0.01)))\n",
    "model_gender.add(BatchNormalization())\n",
    "model_gender.add(MaxPool2D(pool_size=(2, 2)))\n",
    "model_gender.add(Dropout(0.2))\n",
    "\n",
    "model_gender.add(Conv2D(64, kernel_size=(3, 3), activation='relu', padding='same', kernel_regularizer=l2(0.01)))\n",
    "model_gender.add(BatchNormalization())\n",
    "model_gender.add(MaxPool2D(pool_size=(2, 2)))\n",
    "model_gender.add(Dropout(0.2))\n",
    "model_gender.add(Flatten())\n",
    "\n",
    "model_gender.add(Dense(256, activation='relu'))\n",
    "model_gender.add(Dense(1, activation='sigmoid'))\n",
    "\n",
    "model_gender.compile(\n",
    "    optimizer='adam',\n",
    "    loss='binary_crossentropy',\n",
    "    metrics=['accuracy']\n",
    ")\n",
    "model_gender.summary()\n",
    "\n",
    "MODEL_GENDER_LAYER_COUNT = len(model_gender.layers)"
   ]
  },
  {
   "cell_type": "code",
   "execution_count": 24,
   "metadata": {},
   "outputs": [],
   "source": [
    "early_stopping = EarlyStopping(\n",
    "    patience=10, \n",
    "    min_delta=0.001,\n",
    "    restore_best_weights=True\n",
    ")\n",
    "\n",
    "learning_rate_reduction = ReduceLROnPlateau(\n",
    "    monitor='val_acc', \n",
    "    patience=3, \n",
    "    verbose=1, \n",
    "    factor=0.5, \n",
    "    lr=LEARNING_RATE\n",
    ")"
   ]
  },
  {
   "cell_type": "markdown",
   "metadata": {},
   "source": [
    "### Training the model"
   ]
  },
  {
   "cell_type": "code",
   "execution_count": 25,
   "metadata": {},
   "outputs": [
    {
     "data": {
      "text/plain": [
       "((18964, 48, 48, 1), (18964,))"
      ]
     },
     "execution_count": 25,
     "metadata": {},
     "output_type": "execute_result"
    }
   ],
   "source": [
    "X_train.shape, y_train.shape"
   ]
  },
  {
   "cell_type": "code",
   "execution_count": 26,
   "metadata": {},
   "outputs": [
    {
     "name": "stdout",
     "output_type": "stream",
     "text": [
      "Epoch 1/200\n",
      "292/296 [============================>.] - ETA: 0s - loss: 1.1781 - accuracy: 0.7638WARNING:tensorflow:Learning rate reduction is conditioned on metric `val_acc` which is not available. Available metrics are: loss,accuracy,val_loss,val_accuracy,lr\n",
      "296/296 [==============================] - 4s 10ms/step - loss: 1.1714 - accuracy: 0.7648 - val_loss: 1.1434 - val_accuracy: 0.5347 - lr: 0.0010\n",
      "Epoch 2/200\n",
      "293/296 [============================>.] - ETA: 0s - loss: 0.5353 - accuracy: 0.8544WARNING:tensorflow:Learning rate reduction is conditioned on metric `val_acc` which is not available. Available metrics are: loss,accuracy,val_loss,val_accuracy,lr\n",
      "296/296 [==============================] - 3s 10ms/step - loss: 0.5345 - accuracy: 0.8547 - val_loss: 0.5297 - val_accuracy: 0.8418 - lr: 0.0010\n",
      "Epoch 3/200\n",
      "294/296 [============================>.] - ETA: 0s - loss: 0.4278 - accuracy: 0.8697WARNING:tensorflow:Learning rate reduction is conditioned on metric `val_acc` which is not available. Available metrics are: loss,accuracy,val_loss,val_accuracy,lr\n",
      "296/296 [==============================] - 3s 10ms/step - loss: 0.4271 - accuracy: 0.8701 - val_loss: 0.4240 - val_accuracy: 0.8583 - lr: 0.0010\n",
      "Epoch 4/200\n",
      "295/296 [============================>.] - ETA: 0s - loss: 0.3882 - accuracy: 0.8761WARNING:tensorflow:Learning rate reduction is conditioned on metric `val_acc` which is not available. Available metrics are: loss,accuracy,val_loss,val_accuracy,lr\n",
      "296/296 [==============================] - 3s 9ms/step - loss: 0.3879 - accuracy: 0.8764 - val_loss: 0.3932 - val_accuracy: 0.8724 - lr: 0.0010\n",
      "Epoch 5/200\n",
      "291/296 [============================>.] - ETA: 0s - loss: 0.3753 - accuracy: 0.8820WARNING:tensorflow:Learning rate reduction is conditioned on metric `val_acc` which is not available. Available metrics are: loss,accuracy,val_loss,val_accuracy,lr\n",
      "296/296 [==============================] - 3s 9ms/step - loss: 0.3761 - accuracy: 0.8815 - val_loss: 0.3882 - val_accuracy: 0.8829 - lr: 0.0010\n",
      "Epoch 6/200\n",
      "291/296 [============================>.] - ETA: 0s - loss: 0.3685 - accuracy: 0.8852WARNING:tensorflow:Learning rate reduction is conditioned on metric `val_acc` which is not available. Available metrics are: loss,accuracy,val_loss,val_accuracy,lr\n",
      "296/296 [==============================] - 3s 9ms/step - loss: 0.3679 - accuracy: 0.8855 - val_loss: 0.4162 - val_accuracy: 0.8701 - lr: 0.0010\n",
      "Epoch 7/200\n",
      "296/296 [==============================] - ETA: 0s - loss: 0.3548 - accuracy: 0.8898WARNING:tensorflow:Learning rate reduction is conditioned on metric `val_acc` which is not available. Available metrics are: loss,accuracy,val_loss,val_accuracy,lr\n",
      "296/296 [==============================] - 3s 9ms/step - loss: 0.3548 - accuracy: 0.8898 - val_loss: 0.3702 - val_accuracy: 0.8819 - lr: 0.0010\n",
      "Epoch 8/200\n",
      "295/296 [============================>.] - ETA: 0s - loss: 0.3512 - accuracy: 0.8923WARNING:tensorflow:Learning rate reduction is conditioned on metric `val_acc` which is not available. Available metrics are: loss,accuracy,val_loss,val_accuracy,lr\n",
      "296/296 [==============================] - 3s 9ms/step - loss: 0.3518 - accuracy: 0.8922 - val_loss: 0.4954 - val_accuracy: 0.8125 - lr: 0.0010\n",
      "Epoch 9/200\n",
      "293/296 [============================>.] - ETA: 0s - loss: 0.3432 - accuracy: 0.8977WARNING:tensorflow:Learning rate reduction is conditioned on metric `val_acc` which is not available. Available metrics are: loss,accuracy,val_loss,val_accuracy,lr\n",
      "296/296 [==============================] - 3s 9ms/step - loss: 0.3428 - accuracy: 0.8979 - val_loss: 0.3984 - val_accuracy: 0.8749 - lr: 0.0010\n",
      "Epoch 10/200\n",
      "296/296 [==============================] - ETA: 0s - loss: 0.3398 - accuracy: 0.8990WARNING:tensorflow:Learning rate reduction is conditioned on metric `val_acc` which is not available. Available metrics are: loss,accuracy,val_loss,val_accuracy,lr\n",
      "296/296 [==============================] - 3s 9ms/step - loss: 0.3398 - accuracy: 0.8990 - val_loss: 0.3816 - val_accuracy: 0.8850 - lr: 0.0010\n",
      "Epoch 11/200\n",
      "295/296 [============================>.] - ETA: 0s - loss: 0.3304 - accuracy: 0.9044WARNING:tensorflow:Learning rate reduction is conditioned on metric `val_acc` which is not available. Available metrics are: loss,accuracy,val_loss,val_accuracy,lr\n",
      "296/296 [==============================] - 3s 9ms/step - loss: 0.3304 - accuracy: 0.9045 - val_loss: 0.3646 - val_accuracy: 0.8842 - lr: 0.0010\n",
      "Epoch 12/200\n",
      "293/296 [============================>.] - ETA: 0s - loss: 0.3259 - accuracy: 0.9067WARNING:tensorflow:Learning rate reduction is conditioned on metric `val_acc` which is not available. Available metrics are: loss,accuracy,val_loss,val_accuracy,lr\n",
      "296/296 [==============================] - 3s 10ms/step - loss: 0.3256 - accuracy: 0.9068 - val_loss: 0.4016 - val_accuracy: 0.8804 - lr: 0.0010\n",
      "Epoch 13/200\n",
      "292/296 [============================>.] - ETA: 0s - loss: 0.3219 - accuracy: 0.9110WARNING:tensorflow:Learning rate reduction is conditioned on metric `val_acc` which is not available. Available metrics are: loss,accuracy,val_loss,val_accuracy,lr\n",
      "296/296 [==============================] - 3s 9ms/step - loss: 0.3225 - accuracy: 0.9108 - val_loss: 0.4146 - val_accuracy: 0.8768 - lr: 0.0010\n",
      "Epoch 14/200\n",
      "291/296 [============================>.] - ETA: 0s - loss: 0.3148 - accuracy: 0.9123WARNING:tensorflow:Learning rate reduction is conditioned on metric `val_acc` which is not available. Available metrics are: loss,accuracy,val_loss,val_accuracy,lr\n",
      "296/296 [==============================] - 3s 9ms/step - loss: 0.3148 - accuracy: 0.9125 - val_loss: 0.4088 - val_accuracy: 0.8665 - lr: 0.0010\n",
      "Epoch 15/200\n",
      "294/296 [============================>.] - ETA: 0s - loss: 0.3077 - accuracy: 0.9184WARNING:tensorflow:Learning rate reduction is conditioned on metric `val_acc` which is not available. Available metrics are: loss,accuracy,val_loss,val_accuracy,lr\n",
      "296/296 [==============================] - 3s 9ms/step - loss: 0.3077 - accuracy: 0.9184 - val_loss: 0.4185 - val_accuracy: 0.8690 - lr: 0.0010\n",
      "Epoch 16/200\n",
      "291/296 [============================>.] - ETA: 0s - loss: 0.3007 - accuracy: 0.9187WARNING:tensorflow:Learning rate reduction is conditioned on metric `val_acc` which is not available. Available metrics are: loss,accuracy,val_loss,val_accuracy,lr\n",
      "296/296 [==============================] - 3s 9ms/step - loss: 0.3010 - accuracy: 0.9187 - val_loss: 0.4042 - val_accuracy: 0.8821 - lr: 0.0010\n",
      "Epoch 17/200\n",
      "291/296 [============================>.] - ETA: 0s - loss: 0.2910 - accuracy: 0.9236WARNING:tensorflow:Learning rate reduction is conditioned on metric `val_acc` which is not available. Available metrics are: loss,accuracy,val_loss,val_accuracy,lr\n",
      "296/296 [==============================] - 3s 9ms/step - loss: 0.2907 - accuracy: 0.9240 - val_loss: 0.4217 - val_accuracy: 0.8705 - lr: 0.0010\n",
      "Epoch 18/200\n",
      "296/296 [==============================] - ETA: 0s - loss: 0.2884 - accuracy: 0.9272WARNING:tensorflow:Learning rate reduction is conditioned on metric `val_acc` which is not available. Available metrics are: loss,accuracy,val_loss,val_accuracy,lr\n",
      "296/296 [==============================] - 3s 9ms/step - loss: 0.2884 - accuracy: 0.9272 - val_loss: 0.3756 - val_accuracy: 0.8859 - lr: 0.0010\n",
      "Epoch 19/200\n",
      "290/296 [============================>.] - ETA: 0s - loss: 0.2859 - accuracy: 0.9275WARNING:tensorflow:Learning rate reduction is conditioned on metric `val_acc` which is not available. Available metrics are: loss,accuracy,val_loss,val_accuracy,lr\n",
      "296/296 [==============================] - 3s 9ms/step - loss: 0.2855 - accuracy: 0.9276 - val_loss: 0.4041 - val_accuracy: 0.8874 - lr: 0.0010\n",
      "Epoch 20/200\n",
      "292/296 [============================>.] - ETA: 0s - loss: 0.2749 - accuracy: 0.9329WARNING:tensorflow:Learning rate reduction is conditioned on metric `val_acc` which is not available. Available metrics are: loss,accuracy,val_loss,val_accuracy,lr\n",
      "296/296 [==============================] - 3s 9ms/step - loss: 0.2751 - accuracy: 0.9326 - val_loss: 0.3860 - val_accuracy: 0.8937 - lr: 0.0010\n",
      "Epoch 21/200\n",
      "294/296 [============================>.] - ETA: 0s - loss: 0.2702 - accuracy: 0.9334WARNING:tensorflow:Learning rate reduction is conditioned on metric `val_acc` which is not available. Available metrics are: loss,accuracy,val_loss,val_accuracy,lr\n",
      "296/296 [==============================] - 3s 9ms/step - loss: 0.2706 - accuracy: 0.9333 - val_loss: 0.3964 - val_accuracy: 0.8853 - lr: 0.0010\n"
     ]
    }
   ],
   "source": [
    "history_gender = model_gender.fit(\n",
    "    X_train, y_train, \n",
    "    batch_size=BATCH_SIZE,\n",
    "    epochs=EPOCHS, \n",
    "    validation_data=(X_test, y_test), \n",
    "    steps_per_epoch=X_train.shape[0] // BATCH_SIZE, \n",
    "    callbacks=[early_stopping, learning_rate_reduction]\n",
    ")"
   ]
  },
  {
   "cell_type": "markdown",
   "metadata": {},
   "source": [
    "### Evaluate the model"
   ]
  },
  {
   "cell_type": "code",
   "execution_count": 27,
   "metadata": {},
   "outputs": [
    {
     "name": "stdout",
     "output_type": "stream",
     "text": [
      "Test loss: 0.36459702253341675\n",
      "Test Accuracy: 0.8842016458511353\n"
     ]
    }
   ],
   "source": [
    "loss, acc = model_gender.evaluate(X_test, y_test, verbose=0)\n",
    "print('Test loss: {}'.format(loss))\n",
    "print('Test Accuracy: {}'.format(acc))"
   ]
  },
  {
   "cell_type": "markdown",
   "metadata": {},
   "source": [
    "### Metrics plot"
   ]
  },
  {
   "cell_type": "code",
   "execution_count": 28,
   "metadata": {},
   "outputs": [
    {
     "data": {
      "application/vnd.plotly.v1+json": {
       "config": {
        "plotlyServerURL": "https://plot.ly"
       },
       "data": [
        {
         "hovertemplate": "variable=loss<br>epoch=%{x}<br>loss=%{y}<extra></extra>",
         "legendgroup": "loss",
         "line": {
          "color": "#636efa",
          "dash": "solid"
         },
         "marker": {
          "symbol": "circle"
         },
         "mode": "lines",
         "name": "loss",
         "orientation": "v",
         "showlegend": true,
         "type": "scatter",
         "x": [
          0,
          1,
          2,
          3,
          4,
          5,
          6,
          7,
          8,
          9,
          10,
          11,
          12,
          13,
          14,
          15,
          16,
          17,
          18,
          19,
          20
         ],
         "xaxis": "x",
         "y": [
          1.1714273691177368,
          0.534485399723053,
          0.42706409096717834,
          0.3878532648086548,
          0.37607041001319885,
          0.3678765296936035,
          0.35477739572525024,
          0.3517557680606842,
          0.34284788370132446,
          0.33975186944007874,
          0.3304043114185333,
          0.3255771994590759,
          0.3225131928920746,
          0.31484276056289673,
          0.30771052837371826,
          0.3010213077068329,
          0.29067957401275635,
          0.28840604424476624,
          0.28547316789627075,
          0.27505868673324585,
          0.27057725191116333
         ],
         "yaxis": "y"
        },
        {
         "hovertemplate": "variable=val_loss<br>epoch=%{x}<br>loss=%{y}<extra></extra>",
         "legendgroup": "val_loss",
         "line": {
          "color": "#EF553B",
          "dash": "solid"
         },
         "marker": {
          "symbol": "circle"
         },
         "mode": "lines",
         "name": "val_loss",
         "orientation": "v",
         "showlegend": true,
         "type": "scatter",
         "x": [
          0,
          1,
          2,
          3,
          4,
          5,
          6,
          7,
          8,
          9,
          10,
          11,
          12,
          13,
          14,
          15,
          16,
          17,
          18,
          19,
          20
         ],
         "xaxis": "x",
         "y": [
          1.143356442451477,
          0.5296547412872314,
          0.4239521026611328,
          0.3931725025177002,
          0.38824811577796936,
          0.4161691963672638,
          0.37019985914230347,
          0.4954147934913635,
          0.3984428942203522,
          0.38163888454437256,
          0.3645969331264496,
          0.4016263782978058,
          0.41457685828208923,
          0.4088010787963867,
          0.4185495674610138,
          0.40416160225868225,
          0.42168450355529785,
          0.37560370564460754,
          0.40413594245910645,
          0.38600099086761475,
          0.3963885009288788
         ],
         "yaxis": "y"
        }
       ],
       "layout": {
        "legend": {
         "title": {
          "text": "variable"
         },
         "tracegroupgap": 0
        },
        "template": {
         "data": {
          "bar": [
           {
            "error_x": {
             "color": "#2a3f5f"
            },
            "error_y": {
             "color": "#2a3f5f"
            },
            "marker": {
             "line": {
              "color": "#E5ECF6",
              "width": 0.5
             },
             "pattern": {
              "fillmode": "overlay",
              "size": 10,
              "solidity": 0.2
             }
            },
            "type": "bar"
           }
          ],
          "barpolar": [
           {
            "marker": {
             "line": {
              "color": "#E5ECF6",
              "width": 0.5
             },
             "pattern": {
              "fillmode": "overlay",
              "size": 10,
              "solidity": 0.2
             }
            },
            "type": "barpolar"
           }
          ],
          "carpet": [
           {
            "aaxis": {
             "endlinecolor": "#2a3f5f",
             "gridcolor": "white",
             "linecolor": "white",
             "minorgridcolor": "white",
             "startlinecolor": "#2a3f5f"
            },
            "baxis": {
             "endlinecolor": "#2a3f5f",
             "gridcolor": "white",
             "linecolor": "white",
             "minorgridcolor": "white",
             "startlinecolor": "#2a3f5f"
            },
            "type": "carpet"
           }
          ],
          "choropleth": [
           {
            "colorbar": {
             "outlinewidth": 0,
             "ticks": ""
            },
            "type": "choropleth"
           }
          ],
          "contour": [
           {
            "colorbar": {
             "outlinewidth": 0,
             "ticks": ""
            },
            "colorscale": [
             [
              0,
              "#0d0887"
             ],
             [
              0.1111111111111111,
              "#46039f"
             ],
             [
              0.2222222222222222,
              "#7201a8"
             ],
             [
              0.3333333333333333,
              "#9c179e"
             ],
             [
              0.4444444444444444,
              "#bd3786"
             ],
             [
              0.5555555555555556,
              "#d8576b"
             ],
             [
              0.6666666666666666,
              "#ed7953"
             ],
             [
              0.7777777777777778,
              "#fb9f3a"
             ],
             [
              0.8888888888888888,
              "#fdca26"
             ],
             [
              1,
              "#f0f921"
             ]
            ],
            "type": "contour"
           }
          ],
          "contourcarpet": [
           {
            "colorbar": {
             "outlinewidth": 0,
             "ticks": ""
            },
            "type": "contourcarpet"
           }
          ],
          "heatmap": [
           {
            "colorbar": {
             "outlinewidth": 0,
             "ticks": ""
            },
            "colorscale": [
             [
              0,
              "#0d0887"
             ],
             [
              0.1111111111111111,
              "#46039f"
             ],
             [
              0.2222222222222222,
              "#7201a8"
             ],
             [
              0.3333333333333333,
              "#9c179e"
             ],
             [
              0.4444444444444444,
              "#bd3786"
             ],
             [
              0.5555555555555556,
              "#d8576b"
             ],
             [
              0.6666666666666666,
              "#ed7953"
             ],
             [
              0.7777777777777778,
              "#fb9f3a"
             ],
             [
              0.8888888888888888,
              "#fdca26"
             ],
             [
              1,
              "#f0f921"
             ]
            ],
            "type": "heatmap"
           }
          ],
          "heatmapgl": [
           {
            "colorbar": {
             "outlinewidth": 0,
             "ticks": ""
            },
            "colorscale": [
             [
              0,
              "#0d0887"
             ],
             [
              0.1111111111111111,
              "#46039f"
             ],
             [
              0.2222222222222222,
              "#7201a8"
             ],
             [
              0.3333333333333333,
              "#9c179e"
             ],
             [
              0.4444444444444444,
              "#bd3786"
             ],
             [
              0.5555555555555556,
              "#d8576b"
             ],
             [
              0.6666666666666666,
              "#ed7953"
             ],
             [
              0.7777777777777778,
              "#fb9f3a"
             ],
             [
              0.8888888888888888,
              "#fdca26"
             ],
             [
              1,
              "#f0f921"
             ]
            ],
            "type": "heatmapgl"
           }
          ],
          "histogram": [
           {
            "marker": {
             "pattern": {
              "fillmode": "overlay",
              "size": 10,
              "solidity": 0.2
             }
            },
            "type": "histogram"
           }
          ],
          "histogram2d": [
           {
            "colorbar": {
             "outlinewidth": 0,
             "ticks": ""
            },
            "colorscale": [
             [
              0,
              "#0d0887"
             ],
             [
              0.1111111111111111,
              "#46039f"
             ],
             [
              0.2222222222222222,
              "#7201a8"
             ],
             [
              0.3333333333333333,
              "#9c179e"
             ],
             [
              0.4444444444444444,
              "#bd3786"
             ],
             [
              0.5555555555555556,
              "#d8576b"
             ],
             [
              0.6666666666666666,
              "#ed7953"
             ],
             [
              0.7777777777777778,
              "#fb9f3a"
             ],
             [
              0.8888888888888888,
              "#fdca26"
             ],
             [
              1,
              "#f0f921"
             ]
            ],
            "type": "histogram2d"
           }
          ],
          "histogram2dcontour": [
           {
            "colorbar": {
             "outlinewidth": 0,
             "ticks": ""
            },
            "colorscale": [
             [
              0,
              "#0d0887"
             ],
             [
              0.1111111111111111,
              "#46039f"
             ],
             [
              0.2222222222222222,
              "#7201a8"
             ],
             [
              0.3333333333333333,
              "#9c179e"
             ],
             [
              0.4444444444444444,
              "#bd3786"
             ],
             [
              0.5555555555555556,
              "#d8576b"
             ],
             [
              0.6666666666666666,
              "#ed7953"
             ],
             [
              0.7777777777777778,
              "#fb9f3a"
             ],
             [
              0.8888888888888888,
              "#fdca26"
             ],
             [
              1,
              "#f0f921"
             ]
            ],
            "type": "histogram2dcontour"
           }
          ],
          "mesh3d": [
           {
            "colorbar": {
             "outlinewidth": 0,
             "ticks": ""
            },
            "type": "mesh3d"
           }
          ],
          "parcoords": [
           {
            "line": {
             "colorbar": {
              "outlinewidth": 0,
              "ticks": ""
             }
            },
            "type": "parcoords"
           }
          ],
          "pie": [
           {
            "automargin": true,
            "type": "pie"
           }
          ],
          "scatter": [
           {
            "fillpattern": {
             "fillmode": "overlay",
             "size": 10,
             "solidity": 0.2
            },
            "type": "scatter"
           }
          ],
          "scatter3d": [
           {
            "line": {
             "colorbar": {
              "outlinewidth": 0,
              "ticks": ""
             }
            },
            "marker": {
             "colorbar": {
              "outlinewidth": 0,
              "ticks": ""
             }
            },
            "type": "scatter3d"
           }
          ],
          "scattercarpet": [
           {
            "marker": {
             "colorbar": {
              "outlinewidth": 0,
              "ticks": ""
             }
            },
            "type": "scattercarpet"
           }
          ],
          "scattergeo": [
           {
            "marker": {
             "colorbar": {
              "outlinewidth": 0,
              "ticks": ""
             }
            },
            "type": "scattergeo"
           }
          ],
          "scattergl": [
           {
            "marker": {
             "colorbar": {
              "outlinewidth": 0,
              "ticks": ""
             }
            },
            "type": "scattergl"
           }
          ],
          "scattermapbox": [
           {
            "marker": {
             "colorbar": {
              "outlinewidth": 0,
              "ticks": ""
             }
            },
            "type": "scattermapbox"
           }
          ],
          "scatterpolar": [
           {
            "marker": {
             "colorbar": {
              "outlinewidth": 0,
              "ticks": ""
             }
            },
            "type": "scatterpolar"
           }
          ],
          "scatterpolargl": [
           {
            "marker": {
             "colorbar": {
              "outlinewidth": 0,
              "ticks": ""
             }
            },
            "type": "scatterpolargl"
           }
          ],
          "scatterternary": [
           {
            "marker": {
             "colorbar": {
              "outlinewidth": 0,
              "ticks": ""
             }
            },
            "type": "scatterternary"
           }
          ],
          "surface": [
           {
            "colorbar": {
             "outlinewidth": 0,
             "ticks": ""
            },
            "colorscale": [
             [
              0,
              "#0d0887"
             ],
             [
              0.1111111111111111,
              "#46039f"
             ],
             [
              0.2222222222222222,
              "#7201a8"
             ],
             [
              0.3333333333333333,
              "#9c179e"
             ],
             [
              0.4444444444444444,
              "#bd3786"
             ],
             [
              0.5555555555555556,
              "#d8576b"
             ],
             [
              0.6666666666666666,
              "#ed7953"
             ],
             [
              0.7777777777777778,
              "#fb9f3a"
             ],
             [
              0.8888888888888888,
              "#fdca26"
             ],
             [
              1,
              "#f0f921"
             ]
            ],
            "type": "surface"
           }
          ],
          "table": [
           {
            "cells": {
             "fill": {
              "color": "#EBF0F8"
             },
             "line": {
              "color": "white"
             }
            },
            "header": {
             "fill": {
              "color": "#C8D4E3"
             },
             "line": {
              "color": "white"
             }
            },
            "type": "table"
           }
          ]
         },
         "layout": {
          "annotationdefaults": {
           "arrowcolor": "#2a3f5f",
           "arrowhead": 0,
           "arrowwidth": 1
          },
          "autotypenumbers": "strict",
          "coloraxis": {
           "colorbar": {
            "outlinewidth": 0,
            "ticks": ""
           }
          },
          "colorscale": {
           "diverging": [
            [
             0,
             "#8e0152"
            ],
            [
             0.1,
             "#c51b7d"
            ],
            [
             0.2,
             "#de77ae"
            ],
            [
             0.3,
             "#f1b6da"
            ],
            [
             0.4,
             "#fde0ef"
            ],
            [
             0.5,
             "#f7f7f7"
            ],
            [
             0.6,
             "#e6f5d0"
            ],
            [
             0.7,
             "#b8e186"
            ],
            [
             0.8,
             "#7fbc41"
            ],
            [
             0.9,
             "#4d9221"
            ],
            [
             1,
             "#276419"
            ]
           ],
           "sequential": [
            [
             0,
             "#0d0887"
            ],
            [
             0.1111111111111111,
             "#46039f"
            ],
            [
             0.2222222222222222,
             "#7201a8"
            ],
            [
             0.3333333333333333,
             "#9c179e"
            ],
            [
             0.4444444444444444,
             "#bd3786"
            ],
            [
             0.5555555555555556,
             "#d8576b"
            ],
            [
             0.6666666666666666,
             "#ed7953"
            ],
            [
             0.7777777777777778,
             "#fb9f3a"
            ],
            [
             0.8888888888888888,
             "#fdca26"
            ],
            [
             1,
             "#f0f921"
            ]
           ],
           "sequentialminus": [
            [
             0,
             "#0d0887"
            ],
            [
             0.1111111111111111,
             "#46039f"
            ],
            [
             0.2222222222222222,
             "#7201a8"
            ],
            [
             0.3333333333333333,
             "#9c179e"
            ],
            [
             0.4444444444444444,
             "#bd3786"
            ],
            [
             0.5555555555555556,
             "#d8576b"
            ],
            [
             0.6666666666666666,
             "#ed7953"
            ],
            [
             0.7777777777777778,
             "#fb9f3a"
            ],
            [
             0.8888888888888888,
             "#fdca26"
            ],
            [
             1,
             "#f0f921"
            ]
           ]
          },
          "colorway": [
           "#636efa",
           "#EF553B",
           "#00cc96",
           "#ab63fa",
           "#FFA15A",
           "#19d3f3",
           "#FF6692",
           "#B6E880",
           "#FF97FF",
           "#FECB52"
          ],
          "font": {
           "color": "#2a3f5f"
          },
          "geo": {
           "bgcolor": "white",
           "lakecolor": "white",
           "landcolor": "#E5ECF6",
           "showlakes": true,
           "showland": true,
           "subunitcolor": "white"
          },
          "hoverlabel": {
           "align": "left"
          },
          "hovermode": "closest",
          "mapbox": {
           "style": "light"
          },
          "paper_bgcolor": "white",
          "plot_bgcolor": "#E5ECF6",
          "polar": {
           "angularaxis": {
            "gridcolor": "white",
            "linecolor": "white",
            "ticks": ""
           },
           "bgcolor": "#E5ECF6",
           "radialaxis": {
            "gridcolor": "white",
            "linecolor": "white",
            "ticks": ""
           }
          },
          "scene": {
           "xaxis": {
            "backgroundcolor": "#E5ECF6",
            "gridcolor": "white",
            "gridwidth": 2,
            "linecolor": "white",
            "showbackground": true,
            "ticks": "",
            "zerolinecolor": "white"
           },
           "yaxis": {
            "backgroundcolor": "#E5ECF6",
            "gridcolor": "white",
            "gridwidth": 2,
            "linecolor": "white",
            "showbackground": true,
            "ticks": "",
            "zerolinecolor": "white"
           },
           "zaxis": {
            "backgroundcolor": "#E5ECF6",
            "gridcolor": "white",
            "gridwidth": 2,
            "linecolor": "white",
            "showbackground": true,
            "ticks": "",
            "zerolinecolor": "white"
           }
          },
          "shapedefaults": {
           "line": {
            "color": "#2a3f5f"
           }
          },
          "ternary": {
           "aaxis": {
            "gridcolor": "white",
            "linecolor": "white",
            "ticks": ""
           },
           "baxis": {
            "gridcolor": "white",
            "linecolor": "white",
            "ticks": ""
           },
           "bgcolor": "#E5ECF6",
           "caxis": {
            "gridcolor": "white",
            "linecolor": "white",
            "ticks": ""
           }
          },
          "title": {
           "x": 0.05
          },
          "xaxis": {
           "automargin": true,
           "gridcolor": "white",
           "linecolor": "white",
           "ticks": "",
           "title": {
            "standoff": 15
           },
           "zerolinecolor": "white",
           "zerolinewidth": 2
          },
          "yaxis": {
           "automargin": true,
           "gridcolor": "white",
           "linecolor": "white",
           "ticks": "",
           "title": {
            "standoff": 15
           },
           "zerolinecolor": "white",
           "zerolinewidth": 2
          }
         }
        },
        "title": {
         "text": "Training History"
        },
        "xaxis": {
         "anchor": "y",
         "domain": [
          0,
          1
         ],
         "title": {
          "text": "epoch"
         }
        },
        "yaxis": {
         "anchor": "x",
         "domain": [
          0,
          1
         ],
         "title": {
          "text": "loss"
         }
        }
       }
      }
     },
     "metadata": {},
     "output_type": "display_data"
    }
   ],
   "source": [
    "fig = px.line(\n",
    "    history_gender.history, y=['loss', 'val_loss'],\n",
    "    labels={\n",
    "        'index': 'epoch', \n",
    "        'value': 'loss'\n",
    "    }, \n",
    "    title='Training History'\n",
    ")\n",
    "fig.show()"
   ]
  },
  {
   "cell_type": "markdown",
   "metadata": {},
   "source": [
    "### Save model weights"
   ]
  },
  {
   "cell_type": "code",
   "execution_count": 29,
   "metadata": {},
   "outputs": [],
   "source": [
    "model_gender.save(\n",
    "    \"./weights/gender_{layers}-ep_{epochs}-lr_{learning_rate}-{timestamp}.h5\"\n",
    "    .format(\n",
    "        layers=MODEL_GENDER_LAYER_COUNT,\n",
    "        epochs=EPOCHS,\n",
    "        learning_rate=str(LEARNING_RATE).replace('.', '_'),\n",
    "        timestamp=datetime.now().strftime(\"%d%m%Y_%H%M%S\"),\n",
    "    )\n",
    ")"
   ]
  },
  {
   "cell_type": "markdown",
   "metadata": {},
   "source": [
    "## Ethnicity Model"
   ]
  },
  {
   "cell_type": "code",
   "execution_count": 30,
   "metadata": {},
   "outputs": [],
   "source": [
    "ethnicity_matrix = np.array(df[\"ethnicity\"])\n",
    "y = to_categorical(ethnicity_matrix, num_classes=5)"
   ]
  },
  {
   "cell_type": "markdown",
   "metadata": {},
   "source": [
    "### Split the training and test sets"
   ]
  },
  {
   "cell_type": "code",
   "execution_count": 31,
   "metadata": {},
   "outputs": [],
   "source": [
    "X_train, X_test, y_train, y_test = train_test_split(\n",
    "    X, y,\n",
    "    test_size=0.2,\n",
    "    random_state = 42\n",
    ")"
   ]
  },
  {
   "cell_type": "markdown",
   "metadata": {},
   "source": [
    "### Sequential CNN Model"
   ]
  },
  {
   "cell_type": "code",
   "execution_count": 32,
   "metadata": {},
   "outputs": [
    {
     "name": "stdout",
     "output_type": "stream",
     "text": [
      "Model: \"sequential_2\"\n",
      "_________________________________________________________________\n",
      " Layer (type)                Output Shape              Param #   \n",
      "=================================================================\n",
      " conv2d_9 (Conv2D)           (None, 48, 48, 64)        640       \n",
      "                                                                 \n",
      " batch_normalization_12 (Bat  (None, 48, 48, 64)       256       \n",
      " chNormalization)                                                \n",
      "                                                                 \n",
      " conv2d_10 (Conv2D)          (None, 48, 48, 64)        36928     \n",
      "                                                                 \n",
      " batch_normalization_13 (Bat  (None, 48, 48, 64)       256       \n",
      " chNormalization)                                                \n",
      "                                                                 \n",
      " max_pooling2d_6 (MaxPooling  (None, 24, 24, 64)       0         \n",
      " 2D)                                                             \n",
      "                                                                 \n",
      " dropout_8 (Dropout)         (None, 24, 24, 64)        0         \n",
      "                                                                 \n",
      " conv2d_11 (Conv2D)          (None, 24, 24, 128)       73856     \n",
      "                                                                 \n",
      " batch_normalization_14 (Bat  (None, 24, 24, 128)      512       \n",
      " chNormalization)                                                \n",
      "                                                                 \n",
      " conv2d_12 (Conv2D)          (None, 24, 24, 128)       147584    \n",
      "                                                                 \n",
      " batch_normalization_15 (Bat  (None, 24, 24, 128)      512       \n",
      " chNormalization)                                                \n",
      "                                                                 \n",
      " max_pooling2d_7 (MaxPooling  (None, 12, 12, 128)      0         \n",
      " 2D)                                                             \n",
      "                                                                 \n",
      " dropout_9 (Dropout)         (None, 12, 12, 128)       0         \n",
      "                                                                 \n",
      " conv2d_13 (Conv2D)          (None, 12, 12, 256)       295168    \n",
      "                                                                 \n",
      " batch_normalization_16 (Bat  (None, 12, 12, 256)      1024      \n",
      " chNormalization)                                                \n",
      "                                                                 \n",
      " conv2d_14 (Conv2D)          (None, 12, 12, 256)       590080    \n",
      "                                                                 \n",
      " batch_normalization_17 (Bat  (None, 12, 12, 256)      1024      \n",
      " chNormalization)                                                \n",
      "                                                                 \n",
      " max_pooling2d_8 (MaxPooling  (None, 6, 6, 256)        0         \n",
      " 2D)                                                             \n",
      "                                                                 \n",
      " dropout_10 (Dropout)        (None, 6, 6, 256)         0         \n",
      "                                                                 \n",
      " flatten_2 (Flatten)         (None, 9216)              0         \n",
      "                                                                 \n",
      " dense_6 (Dense)             (None, 1024)              9438208   \n",
      "                                                                 \n",
      " batch_normalization_18 (Bat  (None, 1024)             4096      \n",
      " chNormalization)                                                \n",
      "                                                                 \n",
      " dropout_11 (Dropout)        (None, 1024)              0         \n",
      "                                                                 \n",
      " dense_7 (Dense)             (None, 512)               524800    \n",
      "                                                                 \n",
      " batch_normalization_19 (Bat  (None, 512)              2048      \n",
      " chNormalization)                                                \n",
      "                                                                 \n",
      " dropout_12 (Dropout)        (None, 512)               0         \n",
      "                                                                 \n",
      " dense_8 (Dense)             (None, 256)               131328    \n",
      "                                                                 \n",
      " batch_normalization_20 (Bat  (None, 256)              1024      \n",
      " chNormalization)                                                \n",
      "                                                                 \n",
      " dense_9 (Dense)             (None, 5)                 1285      \n"
     ]
    },
    {
     "name": "stderr",
     "output_type": "stream",
     "text": [
      "c:\\Users\\Prerak\\Desktop\\Padhai\\UNIV_STUFF\\AML\\AML_project_CLA4\\venv\\lib\\site-packages\\keras\\optimizers\\optimizer_v2\\adam.py:114: UserWarning:\n",
      "\n",
      "The `lr` argument is deprecated, use `learning_rate` instead.\n",
      "\n"
     ]
    },
    {
     "name": "stdout",
     "output_type": "stream",
     "text": [
      "                                                                 \n",
      "=================================================================\n",
      "Total params: 11,250,629\n",
      "Trainable params: 11,245,253\n",
      "Non-trainable params: 5,376\n",
      "_________________________________________________________________\n"
     ]
    }
   ],
   "source": [
    "model_ethnicity = Sequential()\n",
    "model_ethnicity.add(Conv2D(filters=64, kernel_size=(3, 3), activation='elu', kernel_initializer='he_normal', padding='same', input_shape=INPUT_SHAPE))\n",
    "model_ethnicity.add(BatchNormalization())\n",
    "model_ethnicity.add(Conv2D(filters=64, kernel_size=(3, 3), activation = 'elu', kernel_initializer='he_normal', padding='same'))\n",
    "model_ethnicity.add(BatchNormalization())\n",
    "model_ethnicity.add(MaxPooling2D(2,2))\n",
    "model_ethnicity.add(Dropout(0.3))\n",
    "\n",
    "model_ethnicity.add(Conv2D(filters=128, kernel_size=(3, 3), activation='elu', kernel_initializer='he_normal', padding='same'))\n",
    "model_ethnicity.add(BatchNormalization())\n",
    "model_ethnicity.add(Conv2D(filters=128, kernel_size=(3, 3), activation='elu', kernel_initializer='he_normal', padding='same'))\n",
    "model_ethnicity.add(BatchNormalization())\n",
    "model_ethnicity.add(MaxPooling2D(2,2))\n",
    "model_ethnicity.add(Dropout(0.4))\n",
    "\n",
    "model_ethnicity.add(Conv2D(filters=256, kernel_size=(3, 3), activation='elu', kernel_initializer='he_normal', padding='same'))\n",
    "model_ethnicity.add(BatchNormalization())\n",
    "model_ethnicity.add(Conv2D(filters=256, kernel_size=(3, 3), activation='elu', kernel_initializer='he_normal', padding='same'))\n",
    "model_ethnicity.add(BatchNormalization())\n",
    "model_ethnicity.add(MaxPooling2D(2, 2))\n",
    "model_ethnicity.add(Dropout(0.5))\n",
    "\n",
    "model_ethnicity.add(Flatten())\n",
    "\n",
    "model_ethnicity.add(Dense(units=1024, activation='relu', kernel_initializer='he_uniform'))\n",
    "model_ethnicity.add(BatchNormalization())\n",
    "model_ethnicity.add(Dropout(0.5))\n",
    "\n",
    "model_ethnicity.add(Dense(units=512, activation='relu', kernel_initializer='he_uniform'))\n",
    "model_ethnicity.add(BatchNormalization())\n",
    "model_ethnicity.add(Dropout(0.3))\n",
    "\n",
    "model_ethnicity.add(Dense(units=256, activation='relu', kernel_initializer='he_uniform'))\n",
    "model_ethnicity.add(BatchNormalization())\n",
    "\n",
    "model_ethnicity.add(Dense(units=5, activation='softmax'))\n",
    "\n",
    "model_ethnicity.compile(\n",
    "    loss='categorical_crossentropy',\n",
    "    optimizer=Adam(\n",
    "        lr=LEARNING_RATE,\n",
    "        beta_1=0.9,\n",
    "        beta_2=0.999\n",
    "    ), \n",
    "    metrics=['accuracy']\n",
    ")\n",
    "model_ethnicity.summary()\n",
    "\n",
    "MODEL_ETHNICITY_LAYER_COUNT = len(model_ethnicity.layers)"
   ]
  },
  {
   "cell_type": "code",
   "execution_count": 33,
   "metadata": {},
   "outputs": [],
   "source": [
    "early_stopping = EarlyStopping(\n",
    "    patience=10, \n",
    "    min_delta=0.001,\n",
    "    restore_best_weights=True\n",
    ")\n",
    "\n",
    "learning_rate_reduction = ReduceLROnPlateau(\n",
    "    monitor='val_acc', \n",
    "    patience=3, \n",
    "    verbose=1, \n",
    "    factor=0.5, \n",
    "    min_lr=LEARNING_RATE\n",
    ")"
   ]
  },
  {
   "cell_type": "markdown",
   "metadata": {},
   "source": [
    "### Training the model"
   ]
  },
  {
   "cell_type": "code",
   "execution_count": 34,
   "metadata": {},
   "outputs": [
    {
     "name": "stdout",
     "output_type": "stream",
     "text": [
      "Epoch 1/200\n",
      "296/296 [==============================] - ETA: 0s - loss: 1.2506 - accuracy: 0.5382WARNING:tensorflow:Learning rate reduction is conditioned on metric `val_acc` which is not available. Available metrics are: loss,accuracy,val_loss,val_accuracy,lr\n",
      "296/296 [==============================] - 13s 40ms/step - loss: 1.2506 - accuracy: 0.5382 - val_loss: 1.3323 - val_accuracy: 0.5552 - lr: 0.0010\n",
      "Epoch 2/200\n",
      "295/296 [============================>.] - ETA: 0s - loss: 0.8679 - accuracy: 0.6904WARNING:tensorflow:Learning rate reduction is conditioned on metric `val_acc` which is not available. Available metrics are: loss,accuracy,val_loss,val_accuracy,lr\n",
      "296/296 [==============================] - 12s 39ms/step - loss: 0.8673 - accuracy: 0.6906 - val_loss: 0.8044 - val_accuracy: 0.7174 - lr: 0.0010\n",
      "Epoch 3/200\n",
      "295/296 [============================>.] - ETA: 0s - loss: 0.7663 - accuracy: 0.7288WARNING:tensorflow:Learning rate reduction is conditioned on metric `val_acc` which is not available. Available metrics are: loss,accuracy,val_loss,val_accuracy,lr\n",
      "296/296 [==============================] - 11s 39ms/step - loss: 0.7659 - accuracy: 0.7289 - val_loss: 0.7493 - val_accuracy: 0.7224 - lr: 0.0010\n",
      "Epoch 4/200\n",
      "295/296 [============================>.] - ETA: 0s - loss: 0.7041 - accuracy: 0.7511WARNING:tensorflow:Learning rate reduction is conditioned on metric `val_acc` which is not available. Available metrics are: loss,accuracy,val_loss,val_accuracy,lr\n",
      "296/296 [==============================] - 12s 39ms/step - loss: 0.7048 - accuracy: 0.7509 - val_loss: 0.6430 - val_accuracy: 0.7703 - lr: 0.0010\n",
      "Epoch 5/200\n",
      "295/296 [============================>.] - ETA: 0s - loss: 0.6668 - accuracy: 0.7645WARNING:tensorflow:Learning rate reduction is conditioned on metric `val_acc` which is not available. Available metrics are: loss,accuracy,val_loss,val_accuracy,lr\n",
      "296/296 [==============================] - 12s 39ms/step - loss: 0.6666 - accuracy: 0.7646 - val_loss: 0.6543 - val_accuracy: 0.7692 - lr: 0.0010\n",
      "Epoch 6/200\n",
      "295/296 [============================>.] - ETA: 0s - loss: 0.6243 - accuracy: 0.7815WARNING:tensorflow:Learning rate reduction is conditioned on metric `val_acc` which is not available. Available metrics are: loss,accuracy,val_loss,val_accuracy,lr\n",
      "296/296 [==============================] - 12s 39ms/step - loss: 0.6249 - accuracy: 0.7815 - val_loss: 0.6309 - val_accuracy: 0.7851 - lr: 0.0010\n",
      "Epoch 7/200\n",
      "296/296 [==============================] - ETA: 0s - loss: 0.6062 - accuracy: 0.7879WARNING:tensorflow:Learning rate reduction is conditioned on metric `val_acc` which is not available. Available metrics are: loss,accuracy,val_loss,val_accuracy,lr\n",
      "296/296 [==============================] - 12s 39ms/step - loss: 0.6062 - accuracy: 0.7879 - val_loss: 0.6133 - val_accuracy: 0.7895 - lr: 0.0010\n",
      "Epoch 8/200\n",
      "295/296 [============================>.] - ETA: 0s - loss: 0.5682 - accuracy: 0.8023WARNING:tensorflow:Learning rate reduction is conditioned on metric `val_acc` which is not available. Available metrics are: loss,accuracy,val_loss,val_accuracy,lr\n",
      "296/296 [==============================] - 12s 39ms/step - loss: 0.5681 - accuracy: 0.8024 - val_loss: 0.5898 - val_accuracy: 0.7912 - lr: 0.0010\n",
      "Epoch 9/200\n",
      "295/296 [============================>.] - ETA: 0s - loss: 0.5403 - accuracy: 0.8103WARNING:tensorflow:Learning rate reduction is conditioned on metric `val_acc` which is not available. Available metrics are: loss,accuracy,val_loss,val_accuracy,lr\n",
      "296/296 [==============================] - 12s 39ms/step - loss: 0.5403 - accuracy: 0.8102 - val_loss: 0.6069 - val_accuracy: 0.7901 - lr: 0.0010\n",
      "Epoch 10/200\n",
      "295/296 [============================>.] - ETA: 0s - loss: 0.5152 - accuracy: 0.8177WARNING:tensorflow:Learning rate reduction is conditioned on metric `val_acc` which is not available. Available metrics are: loss,accuracy,val_loss,val_accuracy,lr\n",
      "296/296 [==============================] - 12s 39ms/step - loss: 0.5160 - accuracy: 0.8174 - val_loss: 0.5903 - val_accuracy: 0.7986 - lr: 0.0010\n",
      "Epoch 11/200\n",
      "295/296 [============================>.] - ETA: 0s - loss: 0.5011 - accuracy: 0.8225WARNING:tensorflow:Learning rate reduction is conditioned on metric `val_acc` which is not available. Available metrics are: loss,accuracy,val_loss,val_accuracy,lr\n",
      "296/296 [==============================] - 12s 39ms/step - loss: 0.5007 - accuracy: 0.8227 - val_loss: 0.5938 - val_accuracy: 0.8030 - lr: 0.0010\n",
      "Epoch 12/200\n",
      "295/296 [============================>.] - ETA: 0s - loss: 0.4660 - accuracy: 0.8365WARNING:tensorflow:Learning rate reduction is conditioned on metric `val_acc` which is not available. Available metrics are: loss,accuracy,val_loss,val_accuracy,lr\n",
      "296/296 [==============================] - 12s 39ms/step - loss: 0.4660 - accuracy: 0.8365 - val_loss: 0.5776 - val_accuracy: 0.7981 - lr: 0.0010\n",
      "Epoch 13/200\n",
      "295/296 [============================>.] - ETA: 0s - loss: 0.4528 - accuracy: 0.8396WARNING:tensorflow:Learning rate reduction is conditioned on metric `val_acc` which is not available. Available metrics are: loss,accuracy,val_loss,val_accuracy,lr\n",
      "296/296 [==============================] - 12s 39ms/step - loss: 0.4535 - accuracy: 0.8393 - val_loss: 0.5619 - val_accuracy: 0.8135 - lr: 0.0010\n",
      "Epoch 14/200\n",
      "295/296 [============================>.] - ETA: 0s - loss: 0.4306 - accuracy: 0.8473WARNING:tensorflow:Learning rate reduction is conditioned on metric `val_acc` which is not available. Available metrics are: loss,accuracy,val_loss,val_accuracy,lr\n",
      "296/296 [==============================] - 12s 39ms/step - loss: 0.4307 - accuracy: 0.8471 - val_loss: 0.6322 - val_accuracy: 0.7887 - lr: 0.0010\n",
      "Epoch 15/200\n",
      "296/296 [==============================] - ETA: 0s - loss: 0.4009 - accuracy: 0.8587WARNING:tensorflow:Learning rate reduction is conditioned on metric `val_acc` which is not available. Available metrics are: loss,accuracy,val_loss,val_accuracy,lr\n",
      "296/296 [==============================] - 12s 39ms/step - loss: 0.4009 - accuracy: 0.8587 - val_loss: 0.5704 - val_accuracy: 0.8072 - lr: 0.0010\n",
      "Epoch 16/200\n",
      "295/296 [============================>.] - ETA: 0s - loss: 0.3783 - accuracy: 0.8681WARNING:tensorflow:Learning rate reduction is conditioned on metric `val_acc` which is not available. Available metrics are: loss,accuracy,val_loss,val_accuracy,lr\n",
      "296/296 [==============================] - 12s 39ms/step - loss: 0.3787 - accuracy: 0.8679 - val_loss: 0.6278 - val_accuracy: 0.8066 - lr: 0.0010\n",
      "Epoch 17/200\n",
      "295/296 [============================>.] - ETA: 0s - loss: 0.3674 - accuracy: 0.8683WARNING:tensorflow:Learning rate reduction is conditioned on metric `val_acc` which is not available. Available metrics are: loss,accuracy,val_loss,val_accuracy,lr\n",
      "296/296 [==============================] - 12s 39ms/step - loss: 0.3678 - accuracy: 0.8683 - val_loss: 0.6179 - val_accuracy: 0.8072 - lr: 0.0010\n",
      "Epoch 18/200\n",
      "296/296 [==============================] - ETA: 0s - loss: 0.3526 - accuracy: 0.8738WARNING:tensorflow:Learning rate reduction is conditioned on metric `val_acc` which is not available. Available metrics are: loss,accuracy,val_loss,val_accuracy,lr\n",
      "296/296 [==============================] - 12s 39ms/step - loss: 0.3526 - accuracy: 0.8738 - val_loss: 0.6037 - val_accuracy: 0.8089 - lr: 0.0010\n",
      "Epoch 19/200\n",
      "296/296 [==============================] - ETA: 0s - loss: 0.3269 - accuracy: 0.8825WARNING:tensorflow:Learning rate reduction is conditioned on metric `val_acc` which is not available. Available metrics are: loss,accuracy,val_loss,val_accuracy,lr\n",
      "296/296 [==============================] - 12s 39ms/step - loss: 0.3269 - accuracy: 0.8825 - val_loss: 0.6180 - val_accuracy: 0.8091 - lr: 0.0010\n",
      "Epoch 20/200\n",
      "296/296 [==============================] - ETA: 0s - loss: 0.2985 - accuracy: 0.8956WARNING:tensorflow:Learning rate reduction is conditioned on metric `val_acc` which is not available. Available metrics are: loss,accuracy,val_loss,val_accuracy,lr\n",
      "296/296 [==============================] - 12s 39ms/step - loss: 0.2985 - accuracy: 0.8956 - val_loss: 0.7070 - val_accuracy: 0.7954 - lr: 0.0010\n",
      "Epoch 21/200\n",
      "295/296 [============================>.] - ETA: 0s - loss: 0.2865 - accuracy: 0.9000WARNING:tensorflow:Learning rate reduction is conditioned on metric `val_acc` which is not available. Available metrics are: loss,accuracy,val_loss,val_accuracy,lr\n",
      "296/296 [==============================] - 12s 39ms/step - loss: 0.2862 - accuracy: 0.9001 - val_loss: 0.6298 - val_accuracy: 0.8097 - lr: 0.0010\n",
      "Epoch 22/200\n",
      "295/296 [============================>.] - ETA: 0s - loss: 0.2483 - accuracy: 0.9109WARNING:tensorflow:Learning rate reduction is conditioned on metric `val_acc` which is not available. Available metrics are: loss,accuracy,val_loss,val_accuracy,lr\n",
      "296/296 [==============================] - 12s 39ms/step - loss: 0.2485 - accuracy: 0.9108 - val_loss: 0.6622 - val_accuracy: 0.8034 - lr: 0.0010\n",
      "Epoch 23/200\n",
      "295/296 [============================>.] - ETA: 0s - loss: 0.2534 - accuracy: 0.9082WARNING:tensorflow:Learning rate reduction is conditioned on metric `val_acc` which is not available. Available metrics are: loss,accuracy,val_loss,val_accuracy,lr\n",
      "296/296 [==============================] - 12s 39ms/step - loss: 0.2529 - accuracy: 0.9084 - val_loss: 0.6935 - val_accuracy: 0.8087 - lr: 0.0010\n"
     ]
    }
   ],
   "source": [
    "history_ethnicity = model_ethnicity.fit(\n",
    "    X_train, y_train, \n",
    "    batch_size=BATCH_SIZE,\n",
    "    epochs=EPOCHS, \n",
    "    validation_data=(X_test, y_test), \n",
    "    steps_per_epoch=X_train.shape[0] // BATCH_SIZE, \n",
    "    callbacks=[early_stopping, learning_rate_reduction]\n",
    ")"
   ]
  },
  {
   "cell_type": "markdown",
   "metadata": {},
   "source": [
    "### Evaluate the model"
   ]
  },
  {
   "cell_type": "code",
   "execution_count": 35,
   "metadata": {},
   "outputs": [
    {
     "name": "stdout",
     "output_type": "stream",
     "text": [
      "Test loss: 0.56186842918396\n",
      "Test Accuracy: 0.8135414719581604\n"
     ]
    }
   ],
   "source": [
    "loss, acc = model_ethnicity.evaluate(X_test, y_test, verbose=0)\n",
    "print('Test loss: {}'.format(loss))\n",
    "print('Test Accuracy: {}'.format(acc))"
   ]
  },
  {
   "cell_type": "markdown",
   "metadata": {},
   "source": [
    "### Metrics plot"
   ]
  },
  {
   "cell_type": "code",
   "execution_count": 36,
   "metadata": {},
   "outputs": [
    {
     "data": {
      "application/vnd.plotly.v1+json": {
       "config": {
        "plotlyServerURL": "https://plot.ly"
       },
       "data": [
        {
         "hovertemplate": "variable=loss<br>epoch=%{x}<br>loss=%{y}<extra></extra>",
         "legendgroup": "loss",
         "line": {
          "color": "#636efa",
          "dash": "solid"
         },
         "marker": {
          "symbol": "circle"
         },
         "mode": "lines",
         "name": "loss",
         "orientation": "v",
         "showlegend": true,
         "type": "scatter",
         "x": [
          0,
          1,
          2,
          3,
          4,
          5,
          6,
          7,
          8,
          9,
          10,
          11,
          12,
          13,
          14,
          15,
          16,
          17,
          18,
          19,
          20,
          21,
          22
         ],
         "xaxis": "x",
         "y": [
          1.2505699396133423,
          0.8673182129859924,
          0.7659065127372742,
          0.7047548890113831,
          0.6666329503059387,
          0.6249198317527771,
          0.6061980724334717,
          0.5680785775184631,
          0.5402646064758301,
          0.5160108208656311,
          0.5007438659667969,
          0.46601754426956177,
          0.45347321033477783,
          0.43070587515830994,
          0.4009343385696411,
          0.3786807060241699,
          0.36776018142700195,
          0.352607786655426,
          0.3269142806529999,
          0.29846811294555664,
          0.2861802875995636,
          0.2484743893146515,
          0.2528691291809082
         ],
         "yaxis": "y"
        },
        {
         "hovertemplate": "variable=val_loss<br>epoch=%{x}<br>loss=%{y}<extra></extra>",
         "legendgroup": "val_loss",
         "line": {
          "color": "#EF553B",
          "dash": "solid"
         },
         "marker": {
          "symbol": "circle"
         },
         "mode": "lines",
         "name": "val_loss",
         "orientation": "v",
         "showlegend": true,
         "type": "scatter",
         "x": [
          0,
          1,
          2,
          3,
          4,
          5,
          6,
          7,
          8,
          9,
          10,
          11,
          12,
          13,
          14,
          15,
          16,
          17,
          18,
          19,
          20,
          21,
          22
         ],
         "xaxis": "x",
         "y": [
          1.3322997093200684,
          0.8043767809867859,
          0.7492763996124268,
          0.6429707407951355,
          0.6543136239051819,
          0.6309021711349487,
          0.6132696866989136,
          0.5898414254188538,
          0.6068857312202454,
          0.5903229117393494,
          0.5937647223472595,
          0.5775583386421204,
          0.5618684887886047,
          0.6321841478347778,
          0.570426881313324,
          0.627751350402832,
          0.6179311275482178,
          0.6037312150001526,
          0.6180295944213867,
          0.706950843334198,
          0.6298496723175049,
          0.6621601581573486,
          0.6935423612594604
         ],
         "yaxis": "y"
        }
       ],
       "layout": {
        "legend": {
         "title": {
          "text": "variable"
         },
         "tracegroupgap": 0
        },
        "template": {
         "data": {
          "bar": [
           {
            "error_x": {
             "color": "#2a3f5f"
            },
            "error_y": {
             "color": "#2a3f5f"
            },
            "marker": {
             "line": {
              "color": "#E5ECF6",
              "width": 0.5
             },
             "pattern": {
              "fillmode": "overlay",
              "size": 10,
              "solidity": 0.2
             }
            },
            "type": "bar"
           }
          ],
          "barpolar": [
           {
            "marker": {
             "line": {
              "color": "#E5ECF6",
              "width": 0.5
             },
             "pattern": {
              "fillmode": "overlay",
              "size": 10,
              "solidity": 0.2
             }
            },
            "type": "barpolar"
           }
          ],
          "carpet": [
           {
            "aaxis": {
             "endlinecolor": "#2a3f5f",
             "gridcolor": "white",
             "linecolor": "white",
             "minorgridcolor": "white",
             "startlinecolor": "#2a3f5f"
            },
            "baxis": {
             "endlinecolor": "#2a3f5f",
             "gridcolor": "white",
             "linecolor": "white",
             "minorgridcolor": "white",
             "startlinecolor": "#2a3f5f"
            },
            "type": "carpet"
           }
          ],
          "choropleth": [
           {
            "colorbar": {
             "outlinewidth": 0,
             "ticks": ""
            },
            "type": "choropleth"
           }
          ],
          "contour": [
           {
            "colorbar": {
             "outlinewidth": 0,
             "ticks": ""
            },
            "colorscale": [
             [
              0,
              "#0d0887"
             ],
             [
              0.1111111111111111,
              "#46039f"
             ],
             [
              0.2222222222222222,
              "#7201a8"
             ],
             [
              0.3333333333333333,
              "#9c179e"
             ],
             [
              0.4444444444444444,
              "#bd3786"
             ],
             [
              0.5555555555555556,
              "#d8576b"
             ],
             [
              0.6666666666666666,
              "#ed7953"
             ],
             [
              0.7777777777777778,
              "#fb9f3a"
             ],
             [
              0.8888888888888888,
              "#fdca26"
             ],
             [
              1,
              "#f0f921"
             ]
            ],
            "type": "contour"
           }
          ],
          "contourcarpet": [
           {
            "colorbar": {
             "outlinewidth": 0,
             "ticks": ""
            },
            "type": "contourcarpet"
           }
          ],
          "heatmap": [
           {
            "colorbar": {
             "outlinewidth": 0,
             "ticks": ""
            },
            "colorscale": [
             [
              0,
              "#0d0887"
             ],
             [
              0.1111111111111111,
              "#46039f"
             ],
             [
              0.2222222222222222,
              "#7201a8"
             ],
             [
              0.3333333333333333,
              "#9c179e"
             ],
             [
              0.4444444444444444,
              "#bd3786"
             ],
             [
              0.5555555555555556,
              "#d8576b"
             ],
             [
              0.6666666666666666,
              "#ed7953"
             ],
             [
              0.7777777777777778,
              "#fb9f3a"
             ],
             [
              0.8888888888888888,
              "#fdca26"
             ],
             [
              1,
              "#f0f921"
             ]
            ],
            "type": "heatmap"
           }
          ],
          "heatmapgl": [
           {
            "colorbar": {
             "outlinewidth": 0,
             "ticks": ""
            },
            "colorscale": [
             [
              0,
              "#0d0887"
             ],
             [
              0.1111111111111111,
              "#46039f"
             ],
             [
              0.2222222222222222,
              "#7201a8"
             ],
             [
              0.3333333333333333,
              "#9c179e"
             ],
             [
              0.4444444444444444,
              "#bd3786"
             ],
             [
              0.5555555555555556,
              "#d8576b"
             ],
             [
              0.6666666666666666,
              "#ed7953"
             ],
             [
              0.7777777777777778,
              "#fb9f3a"
             ],
             [
              0.8888888888888888,
              "#fdca26"
             ],
             [
              1,
              "#f0f921"
             ]
            ],
            "type": "heatmapgl"
           }
          ],
          "histogram": [
           {
            "marker": {
             "pattern": {
              "fillmode": "overlay",
              "size": 10,
              "solidity": 0.2
             }
            },
            "type": "histogram"
           }
          ],
          "histogram2d": [
           {
            "colorbar": {
             "outlinewidth": 0,
             "ticks": ""
            },
            "colorscale": [
             [
              0,
              "#0d0887"
             ],
             [
              0.1111111111111111,
              "#46039f"
             ],
             [
              0.2222222222222222,
              "#7201a8"
             ],
             [
              0.3333333333333333,
              "#9c179e"
             ],
             [
              0.4444444444444444,
              "#bd3786"
             ],
             [
              0.5555555555555556,
              "#d8576b"
             ],
             [
              0.6666666666666666,
              "#ed7953"
             ],
             [
              0.7777777777777778,
              "#fb9f3a"
             ],
             [
              0.8888888888888888,
              "#fdca26"
             ],
             [
              1,
              "#f0f921"
             ]
            ],
            "type": "histogram2d"
           }
          ],
          "histogram2dcontour": [
           {
            "colorbar": {
             "outlinewidth": 0,
             "ticks": ""
            },
            "colorscale": [
             [
              0,
              "#0d0887"
             ],
             [
              0.1111111111111111,
              "#46039f"
             ],
             [
              0.2222222222222222,
              "#7201a8"
             ],
             [
              0.3333333333333333,
              "#9c179e"
             ],
             [
              0.4444444444444444,
              "#bd3786"
             ],
             [
              0.5555555555555556,
              "#d8576b"
             ],
             [
              0.6666666666666666,
              "#ed7953"
             ],
             [
              0.7777777777777778,
              "#fb9f3a"
             ],
             [
              0.8888888888888888,
              "#fdca26"
             ],
             [
              1,
              "#f0f921"
             ]
            ],
            "type": "histogram2dcontour"
           }
          ],
          "mesh3d": [
           {
            "colorbar": {
             "outlinewidth": 0,
             "ticks": ""
            },
            "type": "mesh3d"
           }
          ],
          "parcoords": [
           {
            "line": {
             "colorbar": {
              "outlinewidth": 0,
              "ticks": ""
             }
            },
            "type": "parcoords"
           }
          ],
          "pie": [
           {
            "automargin": true,
            "type": "pie"
           }
          ],
          "scatter": [
           {
            "fillpattern": {
             "fillmode": "overlay",
             "size": 10,
             "solidity": 0.2
            },
            "type": "scatter"
           }
          ],
          "scatter3d": [
           {
            "line": {
             "colorbar": {
              "outlinewidth": 0,
              "ticks": ""
             }
            },
            "marker": {
             "colorbar": {
              "outlinewidth": 0,
              "ticks": ""
             }
            },
            "type": "scatter3d"
           }
          ],
          "scattercarpet": [
           {
            "marker": {
             "colorbar": {
              "outlinewidth": 0,
              "ticks": ""
             }
            },
            "type": "scattercarpet"
           }
          ],
          "scattergeo": [
           {
            "marker": {
             "colorbar": {
              "outlinewidth": 0,
              "ticks": ""
             }
            },
            "type": "scattergeo"
           }
          ],
          "scattergl": [
           {
            "marker": {
             "colorbar": {
              "outlinewidth": 0,
              "ticks": ""
             }
            },
            "type": "scattergl"
           }
          ],
          "scattermapbox": [
           {
            "marker": {
             "colorbar": {
              "outlinewidth": 0,
              "ticks": ""
             }
            },
            "type": "scattermapbox"
           }
          ],
          "scatterpolar": [
           {
            "marker": {
             "colorbar": {
              "outlinewidth": 0,
              "ticks": ""
             }
            },
            "type": "scatterpolar"
           }
          ],
          "scatterpolargl": [
           {
            "marker": {
             "colorbar": {
              "outlinewidth": 0,
              "ticks": ""
             }
            },
            "type": "scatterpolargl"
           }
          ],
          "scatterternary": [
           {
            "marker": {
             "colorbar": {
              "outlinewidth": 0,
              "ticks": ""
             }
            },
            "type": "scatterternary"
           }
          ],
          "surface": [
           {
            "colorbar": {
             "outlinewidth": 0,
             "ticks": ""
            },
            "colorscale": [
             [
              0,
              "#0d0887"
             ],
             [
              0.1111111111111111,
              "#46039f"
             ],
             [
              0.2222222222222222,
              "#7201a8"
             ],
             [
              0.3333333333333333,
              "#9c179e"
             ],
             [
              0.4444444444444444,
              "#bd3786"
             ],
             [
              0.5555555555555556,
              "#d8576b"
             ],
             [
              0.6666666666666666,
              "#ed7953"
             ],
             [
              0.7777777777777778,
              "#fb9f3a"
             ],
             [
              0.8888888888888888,
              "#fdca26"
             ],
             [
              1,
              "#f0f921"
             ]
            ],
            "type": "surface"
           }
          ],
          "table": [
           {
            "cells": {
             "fill": {
              "color": "#EBF0F8"
             },
             "line": {
              "color": "white"
             }
            },
            "header": {
             "fill": {
              "color": "#C8D4E3"
             },
             "line": {
              "color": "white"
             }
            },
            "type": "table"
           }
          ]
         },
         "layout": {
          "annotationdefaults": {
           "arrowcolor": "#2a3f5f",
           "arrowhead": 0,
           "arrowwidth": 1
          },
          "autotypenumbers": "strict",
          "coloraxis": {
           "colorbar": {
            "outlinewidth": 0,
            "ticks": ""
           }
          },
          "colorscale": {
           "diverging": [
            [
             0,
             "#8e0152"
            ],
            [
             0.1,
             "#c51b7d"
            ],
            [
             0.2,
             "#de77ae"
            ],
            [
             0.3,
             "#f1b6da"
            ],
            [
             0.4,
             "#fde0ef"
            ],
            [
             0.5,
             "#f7f7f7"
            ],
            [
             0.6,
             "#e6f5d0"
            ],
            [
             0.7,
             "#b8e186"
            ],
            [
             0.8,
             "#7fbc41"
            ],
            [
             0.9,
             "#4d9221"
            ],
            [
             1,
             "#276419"
            ]
           ],
           "sequential": [
            [
             0,
             "#0d0887"
            ],
            [
             0.1111111111111111,
             "#46039f"
            ],
            [
             0.2222222222222222,
             "#7201a8"
            ],
            [
             0.3333333333333333,
             "#9c179e"
            ],
            [
             0.4444444444444444,
             "#bd3786"
            ],
            [
             0.5555555555555556,
             "#d8576b"
            ],
            [
             0.6666666666666666,
             "#ed7953"
            ],
            [
             0.7777777777777778,
             "#fb9f3a"
            ],
            [
             0.8888888888888888,
             "#fdca26"
            ],
            [
             1,
             "#f0f921"
            ]
           ],
           "sequentialminus": [
            [
             0,
             "#0d0887"
            ],
            [
             0.1111111111111111,
             "#46039f"
            ],
            [
             0.2222222222222222,
             "#7201a8"
            ],
            [
             0.3333333333333333,
             "#9c179e"
            ],
            [
             0.4444444444444444,
             "#bd3786"
            ],
            [
             0.5555555555555556,
             "#d8576b"
            ],
            [
             0.6666666666666666,
             "#ed7953"
            ],
            [
             0.7777777777777778,
             "#fb9f3a"
            ],
            [
             0.8888888888888888,
             "#fdca26"
            ],
            [
             1,
             "#f0f921"
            ]
           ]
          },
          "colorway": [
           "#636efa",
           "#EF553B",
           "#00cc96",
           "#ab63fa",
           "#FFA15A",
           "#19d3f3",
           "#FF6692",
           "#B6E880",
           "#FF97FF",
           "#FECB52"
          ],
          "font": {
           "color": "#2a3f5f"
          },
          "geo": {
           "bgcolor": "white",
           "lakecolor": "white",
           "landcolor": "#E5ECF6",
           "showlakes": true,
           "showland": true,
           "subunitcolor": "white"
          },
          "hoverlabel": {
           "align": "left"
          },
          "hovermode": "closest",
          "mapbox": {
           "style": "light"
          },
          "paper_bgcolor": "white",
          "plot_bgcolor": "#E5ECF6",
          "polar": {
           "angularaxis": {
            "gridcolor": "white",
            "linecolor": "white",
            "ticks": ""
           },
           "bgcolor": "#E5ECF6",
           "radialaxis": {
            "gridcolor": "white",
            "linecolor": "white",
            "ticks": ""
           }
          },
          "scene": {
           "xaxis": {
            "backgroundcolor": "#E5ECF6",
            "gridcolor": "white",
            "gridwidth": 2,
            "linecolor": "white",
            "showbackground": true,
            "ticks": "",
            "zerolinecolor": "white"
           },
           "yaxis": {
            "backgroundcolor": "#E5ECF6",
            "gridcolor": "white",
            "gridwidth": 2,
            "linecolor": "white",
            "showbackground": true,
            "ticks": "",
            "zerolinecolor": "white"
           },
           "zaxis": {
            "backgroundcolor": "#E5ECF6",
            "gridcolor": "white",
            "gridwidth": 2,
            "linecolor": "white",
            "showbackground": true,
            "ticks": "",
            "zerolinecolor": "white"
           }
          },
          "shapedefaults": {
           "line": {
            "color": "#2a3f5f"
           }
          },
          "ternary": {
           "aaxis": {
            "gridcolor": "white",
            "linecolor": "white",
            "ticks": ""
           },
           "baxis": {
            "gridcolor": "white",
            "linecolor": "white",
            "ticks": ""
           },
           "bgcolor": "#E5ECF6",
           "caxis": {
            "gridcolor": "white",
            "linecolor": "white",
            "ticks": ""
           }
          },
          "title": {
           "x": 0.05
          },
          "xaxis": {
           "automargin": true,
           "gridcolor": "white",
           "linecolor": "white",
           "ticks": "",
           "title": {
            "standoff": 15
           },
           "zerolinecolor": "white",
           "zerolinewidth": 2
          },
          "yaxis": {
           "automargin": true,
           "gridcolor": "white",
           "linecolor": "white",
           "ticks": "",
           "title": {
            "standoff": 15
           },
           "zerolinecolor": "white",
           "zerolinewidth": 2
          }
         }
        },
        "title": {
         "text": "Training History"
        },
        "xaxis": {
         "anchor": "y",
         "domain": [
          0,
          1
         ],
         "title": {
          "text": "epoch"
         }
        },
        "yaxis": {
         "anchor": "x",
         "domain": [
          0,
          1
         ],
         "title": {
          "text": "loss"
         }
        }
       }
      }
     },
     "metadata": {},
     "output_type": "display_data"
    }
   ],
   "source": [
    "fig = px.line(\n",
    "    history_ethnicity.history, y=['loss', 'val_loss'],\n",
    "    labels={\n",
    "        'index': 'epoch', \n",
    "        'value': 'loss'\n",
    "    }, \n",
    "    title='Training History'\n",
    ")\n",
    "fig.show()"
   ]
  },
  {
   "cell_type": "markdown",
   "metadata": {},
   "source": [
    "### Save model weights"
   ]
  },
  {
   "cell_type": "code",
   "execution_count": 37,
   "metadata": {},
   "outputs": [],
   "source": [
    "model_ethnicity.save(\n",
    "    \"./weights/ethnicity_{layers}-ep_{epochs}-lr_{learning_rate}-{timestamp}.h5\"\n",
    "    .format(\n",
    "        layers=MODEL_ETHNICITY_LAYER_COUNT,\n",
    "        epochs=EPOCHS,\n",
    "        learning_rate=str(LEARNING_RATE).replace('.', '_'),\n",
    "        timestamp=datetime.now().strftime(\"%d%m%Y_%H%M%S\"),\n",
    "    )\n",
    ")"
   ]
  }
 ],
 "metadata": {
  "kernelspec": {
   "display_name": "venv",
   "language": "python",
   "name": "python3"
  },
  "language_info": {
   "codemirror_mode": {
    "name": "ipython",
    "version": 3
   },
   "file_extension": ".py",
   "mimetype": "text/x-python",
   "name": "python",
   "nbconvert_exporter": "python",
   "pygments_lexer": "ipython3",
   "version": "3.9.13"
  }
 },
 "nbformat": 4,
 "nbformat_minor": 2
}
